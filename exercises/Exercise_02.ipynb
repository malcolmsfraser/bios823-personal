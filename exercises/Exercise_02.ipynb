{
 "cells": [
  {
   "cell_type": "markdown",
   "metadata": {},
   "source": [
    "**1**. Play 5 rounds of [regex golf](https://alf.nu/RegexGolf)! The 5 rounds are\n",
    "\n",
    "- Warmup\n",
    "- Anchors\n",
    "- It never ends\n",
    "- Ranges\n",
    "- Backrefs\n",
    "\n",
    "Write the list of regular expressions used below. There may be several possible solutions - you only need one."
   ]
  },
  {
   "cell_type": "markdown",
   "metadata": {},
   "source": [
    "warmup - \"foo\"  \n",
    "Anchors = \".*ck$\"  \n",
    "It never ends = \"fu\\b\"  \n",
    "Ranges = \"^[a-f]{4}\"  \n",
    "Backrefs = \"(.{3}).*\\1\""
   ]
  },
  {
   "cell_type": "markdown",
   "metadata": {},
   "source": [
    "**2**. Simulate 1000 flips of a fair coin, using 'H' for heads and 'T' for tails, and store the results as a string. Count the number of times at least 5 heads occur consecutively.\n",
    "\n",
    "- Do this using a regex\n",
    "- Do this without using a regex"
   ]
  },
  {
   "cell_type": "code",
   "execution_count": 3,
   "metadata": {},
   "outputs": [
    {
     "name": "stdout",
     "output_type": "stream",
     "text": [
      "38\n",
      "38\n"
     ]
    }
   ],
   "source": [
    "import re\n",
    "import random\n",
    "random.seed(10)\n",
    "flips = \"\".join([str(random.randint(0,1)) for x in range(1000)])\n",
    "flips = flips.replace(\"1\",\"H\").replace(\"0\",\"T\")\n",
    "# Using regex\n",
    "print(len(re.findall(\"(?=HHHHH)\",flips)))\n",
    "\n",
    "# Without regex\n",
    "count = 0\n",
    "for i in range(len(flips)-5):\n",
    "    if flips[i] != \"H\":\n",
    "        continue\n",
    "    else:\n",
    "        if flips[i:i+5] == \"HHHHH\":\n",
    "            count += 1\n",
    "print(count)"
   ]
  },
  {
   "cell_type": "markdown",
   "metadata": {},
   "source": [
    "**3**. Generate a random 3 $\\times$ 4 matrix with entries from the digits 0-9. \n",
    "\n",
    "- Scale it so that all columns have mean zero and standard deviation 1\n",
    "- Scale it so that all rows have minimum 0 and maximum 1"
   ]
  },
  {
   "cell_type": "code",
   "execution_count": 2,
   "metadata": {},
   "outputs": [
    {
     "name": "stdout",
     "output_type": "stream",
     "text": [
      "[[9 5 7 5]\n",
      " [4 4 4 9]\n",
      " [4 4 9 7]]\n",
      "\n",
      "\n",
      "[[ 1.41421356  1.41421356  0.16222142 -1.22474487]\n",
      " [-0.70710678 -0.70710678 -1.29777137  1.22474487]\n",
      " [-0.70710678 -0.70710678  1.13554995  0.        ]]\n",
      "\n",
      "\n",
      "[[1.  0.  0.5 0. ]\n",
      " [0.  0.  0.  1. ]\n",
      " [0.  0.  1.  0.6]]\n"
     ]
    }
   ],
   "source": [
    "from sklearn.preprocessing import StandardScaler, MinMaxScaler\n",
    "import numpy as np\n",
    "\n",
    "mat = np.random.randint(10,size=(3,4))\n",
    "print(mat)\n",
    "print(\"\\n\")\n",
    "mat1 = StandardScaler().fit_transform(mat)\n",
    "print(mat1)\n",
    "print(\"\\n\")\n",
    "mat2 = MinMaxScaler().fit_transform(mat.T).T\n",
    "print(mat2)"
   ]
  },
  {
   "cell_type": "markdown",
   "metadata": {},
   "source": [
    "**4**. Create this matrix using `np.fromfunction` \n",
    "\n",
    "```\n",
    "array([[18, 13, 10,  9, 10, 13, 18],\n",
    "       [13,  8,  5,  4,  5,  8, 13],\n",
    "       [10,  5,  2,  1,  2,  5, 10],\n",
    "       [ 9,  4,  1,  0,  1,  4,  9],\n",
    "       [10,  5,  2,  1,  2,  5, 10],\n",
    "       [13,  8,  5,  4,  5,  8, 13],\n",
    "       [18, 13, 10,  9, 10, 13, 18]])\n",
    "```"
   ]
  },
  {
   "cell_type": "code",
   "execution_count": 3,
   "metadata": {},
   "outputs": [
    {
     "data": {
      "text/plain": [
       "array([[18, 13, 10,  9, 10, 13, 18],\n",
       "       [13,  8,  5,  4,  5,  8, 13],\n",
       "       [10,  5,  2,  1,  2,  5, 10],\n",
       "       [ 9,  4,  1,  0,  1,  4,  9],\n",
       "       [10,  5,  2,  1,  2,  5, 10],\n",
       "       [13,  8,  5,  4,  5,  8, 13],\n",
       "       [18, 13, 10,  9, 10, 13, 18]])"
      ]
     },
     "execution_count": 3,
     "metadata": {},
     "output_type": "execute_result"
    }
   ],
   "source": [
    "nums = np.array([0,5,8,9,8,5,0])\n",
    "np.fromfunction(lambda i,j: 18 - nums[j.astype(int)] - nums[i.astype(int)], (7,7))"
   ]
  },
  {
   "cell_type": "markdown",
   "metadata": {},
   "source": [
    "**5**. Write a function `make_df` that returns something like the output shown below when called with `make_df(12)`. Here the outcome is random with equal probability.\n",
    "\n",
    "<img src=\"df.png\" alt=\"Table\" style=\"width: 200px;\"/>"
   ]
  },
  {
   "cell_type": "code",
   "execution_count": 4,
   "metadata": {},
   "outputs": [],
   "source": [
    "import pandas as pd\n",
    "from itertools import cycle\n",
    "def make_df(num):\n",
    "    label_cycle = cycle([\"A\",\"B\",\"C\"])\n",
    "    \n",
    "    pids = [\"S\"+str(x).zfill(4) for x in range(num)]\n",
    "    group = [next(label_cycle) for x in range(num)]\n",
    "    outcome = random.choices([\"died\",\"survived\"],k=num)\n",
    "    \n",
    "    return pd.DataFrame({\"pids\":pids,\"group\":group,\"outcome\":outcome})"
   ]
  },
  {
   "cell_type": "code",
   "execution_count": 5,
   "metadata": {},
   "outputs": [
    {
     "data": {
      "text/html": [
       "<div>\n",
       "<style scoped>\n",
       "    .dataframe tbody tr th:only-of-type {\n",
       "        vertical-align: middle;\n",
       "    }\n",
       "\n",
       "    .dataframe tbody tr th {\n",
       "        vertical-align: top;\n",
       "    }\n",
       "\n",
       "    .dataframe thead th {\n",
       "        text-align: right;\n",
       "    }\n",
       "</style>\n",
       "<table border=\"1\" class=\"dataframe\">\n",
       "  <thead>\n",
       "    <tr style=\"text-align: right;\">\n",
       "      <th></th>\n",
       "      <th>pids</th>\n",
       "      <th>group</th>\n",
       "      <th>outcome</th>\n",
       "    </tr>\n",
       "  </thead>\n",
       "  <tbody>\n",
       "    <tr>\n",
       "      <th>0</th>\n",
       "      <td>S0000</td>\n",
       "      <td>A</td>\n",
       "      <td>died</td>\n",
       "    </tr>\n",
       "    <tr>\n",
       "      <th>1</th>\n",
       "      <td>S0001</td>\n",
       "      <td>B</td>\n",
       "      <td>survived</td>\n",
       "    </tr>\n",
       "    <tr>\n",
       "      <th>2</th>\n",
       "      <td>S0002</td>\n",
       "      <td>C</td>\n",
       "      <td>died</td>\n",
       "    </tr>\n",
       "    <tr>\n",
       "      <th>3</th>\n",
       "      <td>S0003</td>\n",
       "      <td>A</td>\n",
       "      <td>died</td>\n",
       "    </tr>\n",
       "    <tr>\n",
       "      <th>4</th>\n",
       "      <td>S0004</td>\n",
       "      <td>B</td>\n",
       "      <td>survived</td>\n",
       "    </tr>\n",
       "    <tr>\n",
       "      <th>5</th>\n",
       "      <td>S0005</td>\n",
       "      <td>C</td>\n",
       "      <td>died</td>\n",
       "    </tr>\n",
       "    <tr>\n",
       "      <th>6</th>\n",
       "      <td>S0006</td>\n",
       "      <td>A</td>\n",
       "      <td>died</td>\n",
       "    </tr>\n",
       "    <tr>\n",
       "      <th>7</th>\n",
       "      <td>S0007</td>\n",
       "      <td>B</td>\n",
       "      <td>survived</td>\n",
       "    </tr>\n",
       "    <tr>\n",
       "      <th>8</th>\n",
       "      <td>S0008</td>\n",
       "      <td>C</td>\n",
       "      <td>survived</td>\n",
       "    </tr>\n",
       "    <tr>\n",
       "      <th>9</th>\n",
       "      <td>S0009</td>\n",
       "      <td>A</td>\n",
       "      <td>survived</td>\n",
       "    </tr>\n",
       "    <tr>\n",
       "      <th>10</th>\n",
       "      <td>S0010</td>\n",
       "      <td>B</td>\n",
       "      <td>died</td>\n",
       "    </tr>\n",
       "    <tr>\n",
       "      <th>11</th>\n",
       "      <td>S0011</td>\n",
       "      <td>C</td>\n",
       "      <td>died</td>\n",
       "    </tr>\n",
       "  </tbody>\n",
       "</table>\n",
       "</div>"
      ],
      "text/plain": [
       "     pids group   outcome\n",
       "0   S0000     A      died\n",
       "1   S0001     B  survived\n",
       "2   S0002     C      died\n",
       "3   S0003     A      died\n",
       "4   S0004     B  survived\n",
       "5   S0005     C      died\n",
       "6   S0006     A      died\n",
       "7   S0007     B  survived\n",
       "8   S0008     C  survived\n",
       "9   S0009     A  survived\n",
       "10  S0010     B      died\n",
       "11  S0011     C      died"
      ]
     },
     "execution_count": 5,
     "metadata": {},
     "output_type": "execute_result"
    }
   ],
   "source": [
    "make_df(12)"
   ]
  },
  {
   "cell_type": "code",
   "execution_count": null,
   "metadata": {},
   "outputs": [],
   "source": []
  }
 ],
 "metadata": {
  "kernelspec": {
   "display_name": "Python 3",
   "language": "python",
   "name": "python3"
  },
  "language_info": {
   "codemirror_mode": {
    "name": "ipython",
    "version": 3
   },
   "file_extension": ".py",
   "mimetype": "text/x-python",
   "name": "python",
   "nbconvert_exporter": "python",
   "pygments_lexer": "ipython3",
   "version": "3.7.8"
  }
 },
 "nbformat": 4,
 "nbformat_minor": 4
}
