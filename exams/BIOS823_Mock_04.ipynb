{
 "cells": [
  {
   "cell_type": "markdown",
   "metadata": {},
   "source": [
    "**1**. (25 points)\n",
    "\n",
    "- Write a **recursive** function that returns the length of the hailstone sequence staring with a positive integer $n$.  (15 points)\n",
    "\n",
    "The hailstone sequence is defined by the following rules:\n",
    "```\n",
    "- If n is 1, stop\n",
    "- If n is even, divide by 2 and repeat\n",
    "- If n is odd, multiply by 3 and add 1 and repeat\n",
    "```\n",
    "For example, the hailstone sequence starting with $n = 3$ has length 8:\n",
    "```\n",
    "- 3, 10, 5, 16, 8, 4, 2, 1\n",
    "```\n",
    "\n",
    "Use the `functools` package to avoid duplicate function calls.\n",
    "\n",
    "- Find the number that gives the longest sequence for starting numbers less than 100,000. Report the number and the length of the generated sequence. (10 points)\n"
   ]
  },
  {
   "cell_type": "code",
   "execution_count": 1,
   "metadata": {},
   "outputs": [
    {
     "data": {
      "text/plain": [
       "[3, 10, 5.0, 16.0, 8.0, 4.0, 2.0, 1.0]"
      ]
     },
     "execution_count": 1,
     "metadata": {},
     "output_type": "execute_result"
    }
   ],
   "source": [
    "def rec(n, seq=None):\n",
    "    if seq is None:\n",
    "        seq = []\n",
    "    if n == 1:\n",
    "        seq.append(n)\n",
    "    elif n % 2 == 0:\n",
    "        seq.append(n)\n",
    "        n /= 2\n",
    "        rec(n,seq)\n",
    "    elif n % 2 != 0:\n",
    "        seq.append(n)\n",
    "        n *= 3\n",
    "        n += 1\n",
    "        rec(n,seq)\n",
    "    return seq\n",
    "\n",
    "\n",
    "rec(3)\n",
    "\n"
   ]
  },
  {
   "cell_type": "code",
   "execution_count": 2,
   "metadata": {},
   "outputs": [
    {
     "name": "stdout",
     "output_type": "stream",
     "text": [
      "(77031, 351)\n"
     ]
    }
   ],
   "source": [
    "longest = 0\n",
    "for x in range(1,100000):\n",
    "    length = len(rec(x))\n",
    "    if length > longest:\n",
    "        longest = length\n",
    "        long = (x, longest)\n",
    "print(long)"
   ]
  },
  {
   "cell_type": "markdown",
   "metadata": {},
   "source": [
    "**2**. (25 points)\n",
    "\n",
    "- Create a `pnadas` DataFrame called `df` from the data set at https://bit.ly/2ksKr8f, taking care to only read in the `time` and `value` columns. (5 points)\n",
    "- Fill all rows with missing values with the value from the last non-missing value (i.e. forward fill) (5 points)\n",
    "- Convert to a `pandas` Series `s` using `time` as the index (5 points)\n",
    "- Create a new series `s1` with the rolling average using a shifting window of size 7 and a minimum period of 1 (5 points)\n",
    "- Report the `time` and value for the largest rolling average (5 points)"
   ]
  },
  {
   "cell_type": "code",
   "execution_count": 14,
   "metadata": {},
   "outputs": [],
   "source": [
    "import pandas as pd\n",
    "df = pd.read_csv(\"https://bit.ly/2ksKr8f\",usecols=[1,2])\n",
    "df = df.fillna(method=\"ffill\")\n",
    "df = df.set_index(\"time\")\n",
    "s = df.iloc[:,0]\n",
    "s1 = df.rolling(7,1).mean().iloc[:,0]"
   ]
  },
  {
   "cell_type": "code",
   "execution_count": 16,
   "metadata": {},
   "outputs": [
    {
     "data": {
      "text/html": [
       "<div>\n",
       "<style scoped>\n",
       "    .dataframe tbody tr th:only-of-type {\n",
       "        vertical-align: middle;\n",
       "    }\n",
       "\n",
       "    .dataframe tbody tr th {\n",
       "        vertical-align: top;\n",
       "    }\n",
       "\n",
       "    .dataframe thead th {\n",
       "        text-align: right;\n",
       "    }\n",
       "</style>\n",
       "<table border=\"1\" class=\"dataframe\">\n",
       "  <thead>\n",
       "    <tr style=\"text-align: right;\">\n",
       "      <th></th>\n",
       "      <th>value</th>\n",
       "    </tr>\n",
       "    <tr>\n",
       "      <th>time</th>\n",
       "      <th></th>\n",
       "    </tr>\n",
       "  </thead>\n",
       "  <tbody>\n",
       "    <tr>\n",
       "      <th>772</th>\n",
       "      <td>505.15</td>\n",
       "    </tr>\n",
       "  </tbody>\n",
       "</table>\n",
       "</div>"
      ],
      "text/plain": [
       "       value\n",
       "time        \n",
       "772   505.15"
      ]
     },
     "execution_count": 16,
     "metadata": {},
     "output_type": "execute_result"
    }
   ],
   "source": [
    "mm = df.rolling(7,1).mean().nlargest(1,\"value\")\n",
    "mm"
   ]
  },
  {
   "cell_type": "markdown",
   "metadata": {},
   "source": [
    "**3**. (25 points)\n",
    "\n",
    "- Get information in JSON format about startship 23 from the Star Wars API https://swapi.co/api using the `requests` package (5 points)\n",
    "- Report the time interval between `created` and `edited` in minutes using the `pendulum` package. It is also ok if you prefer to do this using the standard `datetime` library (5 points)\n",
    "- Replace the URL values stored at the `films` key with the titles of the actual films (5 points)\n",
    "- Save the new JSON (with film titles and not URLs) to a file `ship.json` (5 points)\n",
    "- Read in the JSON file you have just saved as a Python dictionary (5 points)"
   ]
  },
  {
   "cell_type": "code",
   "execution_count": 57,
   "metadata": {},
   "outputs": [
    {
     "data": {
      "text/plain": [
       "{'name': 'EF76 Nebulon-B escort frigate',\n",
       " 'model': 'EF76 Nebulon-B escort frigate',\n",
       " 'manufacturer': 'Kuat Drive Yards',\n",
       " 'cost_in_credits': '8500000',\n",
       " 'length': '300',\n",
       " 'max_atmosphering_speed': '800',\n",
       " 'crew': '854',\n",
       " 'passengers': '75',\n",
       " 'cargo_capacity': '6000000',\n",
       " 'consumables': '2 years',\n",
       " 'hyperdrive_rating': '2.0',\n",
       " 'MGLT': '40',\n",
       " 'starship_class': 'Escort ship',\n",
       " 'pilots': [],\n",
       " 'films': ['https://swapi.dev/api/films/2/', 'https://swapi.dev/api/films/3/'],\n",
       " 'created': '2014-12-15T13:06:30.813000Z',\n",
       " 'edited': '2014-12-20T21:23:49.902000Z',\n",
       " 'url': 'https://swapi.dev/api/starships/23/'}"
      ]
     },
     "execution_count": 57,
     "metadata": {},
     "output_type": "execute_result"
    }
   ],
   "source": [
    "import requests\n",
    "import pendulum\n",
    "from pendulum.interval import timedelta,Interval\n",
    "\n",
    "url = \"https://swapi.dev/api/starships/23\"\n",
    "info = requests.get(url).json()\n",
    "info"
   ]
  },
  {
   "cell_type": "code",
   "execution_count": 58,
   "metadata": {},
   "outputs": [
    {
     "ename": "TypeError",
     "evalue": "an integer is required (got type str)",
     "output_type": "error",
     "traceback": [
      "\u001b[0;31m\u001b[0m",
      "\u001b[0;31mTypeError\u001b[0mTraceback (most recent call last)",
      "\u001b[0;32m<ipython-input-58-68d37f974370>\u001b[0m in \u001b[0;36m<module>\u001b[0;34m\u001b[0m\n\u001b[0;32m----> 1\u001b[0;31m \u001b[0mpendulum\u001b[0m\u001b[0;34m.\u001b[0m\u001b[0mtime\u001b[0m\u001b[0;34m(\u001b[0m\u001b[0minfo\u001b[0m\u001b[0;34m[\u001b[0m\u001b[0;34m'created'\u001b[0m\u001b[0;34m]\u001b[0m\u001b[0;34m)\u001b[0m\u001b[0;34m\u001b[0m\u001b[0;34m\u001b[0m\u001b[0m\n\u001b[0m",
      "\u001b[0;31mTypeError\u001b[0m: an integer is required (got type str)"
     ]
    }
   ],
   "source": [
    "pendulum.time(info['created'])"
   ]
  },
  {
   "cell_type": "code",
   "execution_count": 55,
   "metadata": {},
   "outputs": [
    {
     "name": "stdout",
     "output_type": "stream",
     "text": [
      "Help on package pendulum:\n",
      "\n",
      "NAME\n",
      "    pendulum - # -*- coding: utf-8 -*-\n",
      "\n",
      "PACKAGE CONTENTS\n",
      "    _compat\n",
      "    _extensions (package)\n",
      "    _global\n",
      "    constants\n",
      "    date\n",
      "    exceptions\n",
      "    formatting (package)\n",
      "    helpers\n",
      "    interval\n",
      "    lang (package)\n",
      "    mixins (package)\n",
      "    parser\n",
      "    parsing (package)\n",
      "    pendulum\n",
      "    period\n",
      "    time\n",
      "    translator\n",
      "    tz (package)\n",
      "    version\n",
      "\n",
      "DATA\n",
      "    DAYS_PER_WEEK = 7\n",
      "    FRIDAY = 5\n",
      "    HOURS_PER_DAY = 24\n",
      "    MINUTES_PER_HOUR = 60\n",
      "    MONDAY = 1\n",
      "    MONTHS_PER_YEAR = 12\n",
      "    POST_TRANSITION = 'post'\n",
      "    PRE_TRANSITION = 'pre'\n",
      "    SATURDAY = 6\n",
      "    SECONDS_PER_DAY = 86400\n",
      "    SECONDS_PER_HOUR = 3600\n",
      "    SECONDS_PER_MINUTE = 60\n",
      "    SUNDAY = 0\n",
      "    THURSDAY = 4\n",
      "    TRANSITION_ERROR = 'error'\n",
      "    TUESDAY = 2\n",
      "    UTC = <TimezoneInfo [UTC, GMT, +00:00:00, STD]>\n",
      "    WEDNESDAY = 3\n",
      "    WEEKS_PER_YEAR = 52\n",
      "    YEARS_PER_CENTURY = 100\n",
      "    YEARS_PER_DECADE = 10\n",
      "    max = <Pendulum [9999-12-31T23:59:59.999999+00:00]>\n",
      "    min = <Pendulum [0001-01-01T00:00:00+00:00]>\n",
      "    timezones = ('Africa/Abidjan', 'Africa/Accra', 'Africa/Addis_Ababa', '...\n",
      "\n",
      "FILE\n",
      "    /opt/conda/lib/python3.7/site-packages/pendulum/__init__.py\n",
      "\n",
      "\n"
     ]
    }
   ],
   "source": [
    "help(pendulum)"
   ]
  },
  {
   "cell_type": "code",
   "execution_count": 56,
   "metadata": {},
   "outputs": [
    {
     "name": "stdout",
     "output_type": "stream",
     "text": [
      "Help on class Interval in module pendulum.interval:\n",
      "\n",
      "class Interval(pendulum.mixins.interval.WordableIntervalMixin, BaseInterval)\n",
      " |  Interval(days=0, seconds=0, microseconds=0, milliseconds=0, minutes=0, hours=0, weeks=0)\n",
      " |  \n",
      " |  Replacement for the standard timedelta class.\n",
      " |  \n",
      " |  Provides several improvements over the base class.\n",
      " |  \n",
      " |  Method resolution order:\n",
      " |      Interval\n",
      " |      pendulum.mixins.interval.WordableIntervalMixin\n",
      " |      pendulum.mixins.default.TranslatableMixin\n",
      " |      BaseInterval\n",
      " |      datetime.timedelta\n",
      " |      builtins.object\n",
      " |  \n",
      " |  Methods defined here:\n",
      " |  \n",
      " |  __add__(self, other)\n",
      " |      Return self+value.\n",
      " |  \n",
      " |  __div__ = __floordiv__(self, other)\n",
      " |  \n",
      " |  __divmod__(self, other)\n",
      " |      Return divmod(self, value).\n",
      " |  \n",
      " |  __floordiv__(self, other)\n",
      " |      Return self//value.\n",
      " |  \n",
      " |  __mod__(self, other)\n",
      " |      Return self%value.\n",
      " |  \n",
      " |  __mul__(self, other)\n",
      " |      Return self*value.\n",
      " |  \n",
      " |  __neg__(self)\n",
      " |      -self\n",
      " |  \n",
      " |  __radd__ = __add__(self, other)\n",
      " |  \n",
      " |  __rmul__ = __mul__(self, other)\n",
      " |  \n",
      " |  __sub__(self, other)\n",
      " |      Return self-value.\n",
      " |  \n",
      " |  __truediv__(self, other)\n",
      " |      Return self/value.\n",
      " |  \n",
      " |  ----------------------------------------------------------------------\n",
      " |  Class methods defined here:\n",
      " |  \n",
      " |  instance(delta) from builtins.type\n",
      " |      Creates a Interval from a timedelta\n",
      " |      \n",
      " |      :type delta: timedelta\n",
      " |      \n",
      " |      :rtype: Interval\n",
      " |  \n",
      " |  ----------------------------------------------------------------------\n",
      " |  Data and other attributes defined here:\n",
      " |  \n",
      " |  max = <Interval [142857142 weeks 6 days]>\n",
      " |  \n",
      " |  min = <Interval [-142857142 weeks -5 days]>\n",
      " |  \n",
      " |  resolution = <Interval [0.00 second]>\n",
      " |  \n",
      " |  ----------------------------------------------------------------------\n",
      " |  Methods inherited from pendulum.mixins.interval.WordableIntervalMixin:\n",
      " |  \n",
      " |  __repr__(self)\n",
      " |      Return repr(self).\n",
      " |  \n",
      " |  __str__(self)\n",
      " |      Return str(self).\n",
      " |  \n",
      " |  in_words(self, locale=None, separator=' ', _periods=None)\n",
      " |      Get the current interval in words in the current locale.\n",
      " |      \n",
      " |      Ex: 6 jours 23 heures 58 minutes\n",
      " |      \n",
      " |      :param locale: The locale to use. Defaults to current locale.\n",
      " |      :type locale: str\n",
      " |      \n",
      " |      :param separator: The separator to use between each unit\n",
      " |      :type separator: str\n",
      " |      \n",
      " |      :param _periods: Custom periods to use as word parts\n",
      " |      :type _periods: list or None\n",
      " |      \n",
      " |      :rtype: str\n",
      " |  \n",
      " |  ----------------------------------------------------------------------\n",
      " |  Class methods inherited from pendulum.mixins.default.TranslatableMixin:\n",
      " |  \n",
      " |  get_locale() from builtins.type\n",
      " |      Get the current translator locale.\n",
      " |      \n",
      " |      :rtype: str\n",
      " |  \n",
      " |  set_locale(locale) from builtins.type\n",
      " |      Set the current translator locale and\n",
      " |      indicate if the source locale file exists.\n",
      " |      \n",
      " |      :type locale: str\n",
      " |      \n",
      " |      :rtype: bool\n",
      " |  \n",
      " |  set_translator(translator) from builtins.type\n",
      " |      Set the translator instance to use.\n",
      " |      \n",
      " |      :param translator: The translator\n",
      " |      :type translator: Translator\n",
      " |  \n",
      " |  translator() from builtins.type\n",
      " |      Initialize the translator instance if necessary.\n",
      " |      \n",
      " |      :rtype: Translator\n",
      " |  \n",
      " |  ----------------------------------------------------------------------\n",
      " |  Data descriptors inherited from pendulum.mixins.default.TranslatableMixin:\n",
      " |  \n",
      " |  __dict__\n",
      " |      dictionary for instance variables (if defined)\n",
      " |  \n",
      " |  __weakref__\n",
      " |      list of weak references to the object (if defined)\n",
      " |  \n",
      " |  ----------------------------------------------------------------------\n",
      " |  Methods inherited from BaseInterval:\n",
      " |  \n",
      " |  as_timedelta(self)\n",
      " |      Return the interval as a native timedelta.\n",
      " |      \n",
      " |      :rtype: timedelta\n",
      " |  \n",
      " |  in_days(self)\n",
      " |  \n",
      " |  in_hours(self)\n",
      " |  \n",
      " |  in_minutes(self)\n",
      " |  \n",
      " |  in_seconds(self)\n",
      " |  \n",
      " |  in_weeks(self)\n",
      " |  \n",
      " |  total_days(self)\n",
      " |  \n",
      " |  total_hours(self)\n",
      " |  \n",
      " |  total_minutes(self)\n",
      " |  \n",
      " |  total_weeks(self)\n",
      " |  \n",
      " |  ----------------------------------------------------------------------\n",
      " |  Static methods inherited from BaseInterval:\n",
      " |  \n",
      " |  __new__(cls, days=0, seconds=0, microseconds=0, milliseconds=0, minutes=0, hours=0, weeks=0)\n",
      " |      Create and return a new object.  See help(type) for accurate signature.\n",
      " |  \n",
      " |  ----------------------------------------------------------------------\n",
      " |  Data descriptors inherited from BaseInterval:\n",
      " |  \n",
      " |  days\n",
      " |      Number of days.\n",
      " |  \n",
      " |  hours\n",
      " |  \n",
      " |  invert\n",
      " |  \n",
      " |  microseconds\n",
      " |      Number of microseconds (>= 0 and less than 1 second).\n",
      " |  \n",
      " |  minutes\n",
      " |  \n",
      " |  remaining_days\n",
      " |  \n",
      " |  remaining_seconds\n",
      " |  \n",
      " |  seconds\n",
      " |      Number of seconds (>= 0 and less than 1 day).\n",
      " |  \n",
      " |  weeks\n",
      " |  \n",
      " |  ----------------------------------------------------------------------\n",
      " |  Methods inherited from datetime.timedelta:\n",
      " |  \n",
      " |  __abs__(self, /)\n",
      " |      abs(self)\n",
      " |  \n",
      " |  __bool__(self, /)\n",
      " |      self != 0\n",
      " |  \n",
      " |  __eq__(self, value, /)\n",
      " |      Return self==value.\n",
      " |  \n",
      " |  __ge__(self, value, /)\n",
      " |      Return self>=value.\n",
      " |  \n",
      " |  __getattribute__(self, name, /)\n",
      " |      Return getattr(self, name).\n",
      " |  \n",
      " |  __gt__(self, value, /)\n",
      " |      Return self>value.\n",
      " |  \n",
      " |  __hash__(self, /)\n",
      " |      Return hash(self).\n",
      " |  \n",
      " |  __le__(self, value, /)\n",
      " |      Return self<=value.\n",
      " |  \n",
      " |  __lt__(self, value, /)\n",
      " |      Return self<value.\n",
      " |  \n",
      " |  __ne__(self, value, /)\n",
      " |      Return self!=value.\n",
      " |  \n",
      " |  __pos__(self, /)\n",
      " |      +self\n",
      " |  \n",
      " |  __rdivmod__(self, value, /)\n",
      " |      Return divmod(value, self).\n",
      " |  \n",
      " |  __reduce__(...)\n",
      " |      __reduce__() -> (cls, state)\n",
      " |  \n",
      " |  __rfloordiv__(self, value, /)\n",
      " |      Return value//self.\n",
      " |  \n",
      " |  __rmod__(self, value, /)\n",
      " |      Return value%self.\n",
      " |  \n",
      " |  __rsub__(self, value, /)\n",
      " |      Return value-self.\n",
      " |  \n",
      " |  __rtruediv__(self, value, /)\n",
      " |      Return value/self.\n",
      " |  \n",
      " |  total_seconds(...)\n",
      " |      Total seconds in the duration.\n",
      "\n"
     ]
    }
   ],
   "source": [
    "help(pendulum.interval)"
   ]
  },
  {
   "cell_type": "markdown",
   "metadata": {},
   "source": [
    "**4**. (25 points)\n",
    "\n",
    "Use SQL to answer the following questions using the SQLite3 database `anemia.db`:\n",
    "\n",
    "- Show the tables (not indexes) and their schema (in SQL) in the anemia database (5 points)\n",
    "- Count the number of male and female patients (5 points)\n",
    "- Find the average age of male and female patients (as of right now) (5 points)\n",
    "- Show the sex, hb and name of patients with severe anemia ordered by severity. Severe anemia is defined as\n",
    "    - Hb < 7 if female\n",
    "    - Hb < 8 if male\n",
    "    \n",
    "(10 points)\n",
    "\n",
    "You many assume `pid` is the PRIMARY KEY and the FOREIGN KEY in the appropriate tables. \n",
    "   \n",
    "Note: Hb is short for hemoglobin levels.\n",
    "\n",
    "Hint: In SQLite3, you can use `DATE('now')` to get today's date."
   ]
  },
  {
   "cell_type": "code",
   "execution_count": 17,
   "metadata": {},
   "outputs": [],
   "source": [
    "%load_ext sql"
   ]
  },
  {
   "cell_type": "code",
   "execution_count": 50,
   "metadata": {},
   "outputs": [
    {
     "data": {
      "text/plain": [
       "'Connected: @data/har.db'"
      ]
     },
     "execution_count": 50,
     "metadata": {},
     "output_type": "execute_result"
    }
   ],
   "source": [
    "%sql sqlite:///data/har.db"
   ]
  },
  {
   "cell_type": "code",
   "execution_count": 51,
   "metadata": {},
   "outputs": [
    {
     "name": "stdout",
     "output_type": "stream",
     "text": [
      "   sqlite:///anemia.db\n",
      " * sqlite:///data/har.db\n",
      "Done.\n"
     ]
    },
    {
     "data": {
      "text/html": [
       "<table>\n",
       "    <tr>\n",
       "        <th>type</th>\n",
       "        <th>name</th>\n",
       "        <th>tbl_name</th>\n",
       "        <th>rootpage</th>\n",
       "        <th>sql</th>\n",
       "    </tr>\n",
       "    <tr>\n",
       "        <td>table</td>\n",
       "        <td>har</td>\n",
       "        <td>har</td>\n",
       "        <td>2</td>\n",
       "        <td>CREATE TABLE har (<br>\tsubject BIGINT, <br>\t&quot;tBodyAcc-mean()-X&quot; FLOAT, <br>\t&quot;tBodyAcc-mean()-Y&quot; FLOAT, <br>\t&quot;tBodyAcc-mean()-Z&quot; FLOAT, <br>\t&quot;tBodyAcc-std()-X&quot; FLOAT, <br>\t&quot;tBodyAcc-std()-Y&quot; FLOAT, <br>\t&quot;tBodyAcc-std()-Z&quot; FLOAT, <br>\t&quot;tBodyAcc-mad()-X&quot; FLOAT, <br>\t&quot;tBodyAcc-mad()-Y&quot; FLOAT, <br>\t&quot;tBodyAcc-mad()-Z&quot; FLOAT, <br>\t&quot;tBodyAcc-max()-X&quot; FLOAT, <br>\t&quot;tBodyAcc-max()-Y&quot; FLOAT, <br>\t&quot;tBodyAcc-max()-Z&quot; FLOAT, <br>\t&quot;tBodyAcc-min()-X&quot; FLOAT, <br>\t&quot;tBodyAcc-min()-Y&quot; FLOAT, <br>\t&quot;tBodyAcc-min()-Z&quot; FLOAT, <br>\t&quot;tBodyAcc-sma()&quot; FLOAT, <br>\t&quot;tBodyAcc-energy()-X&quot; FLOAT, <br>\t&quot;tBodyAcc-energy()-Y&quot; FLOAT, <br>\t&quot;tBodyAcc-energy()-Z&quot; FLOAT, <br>\t&quot;tBodyAcc-iqr()-X&quot; FLOAT, <br>\t&quot;tBodyAcc-iqr()-Y&quot; FLOAT, <br>\t&quot;tBodyAcc-iqr()-Z&quot; FLOAT, <br>\t&quot;tBodyAcc-entropy()-X&quot; FLOAT, <br>\t&quot;tBodyAcc-entropy()-Y&quot; FLOAT, <br>\t&quot;tBodyAcc-entropy()-Z&quot; FLOAT, <br>\t&quot;tBodyAcc-arCoeff()-X,1&quot; FLOAT, <br>\t&quot;tBodyAcc-arCoeff()-X,2&quot; FLOAT, <br>\t&quot;tBodyAcc-arCoeff()-X,3&quot; FLOAT, <br>\t&quot;tBodyAcc-arCoeff()-X,4&quot; FLOAT, <br>\t&quot;tBodyAcc-arCoeff()-Y,1&quot; FLOAT, <br>\t&quot;tBodyAcc-arCoeff()-Y,2&quot; FLOAT, <br>\t&quot;tBodyAcc-arCoeff()-Y,3&quot; FLOAT, <br>\t&quot;tBodyAcc-arCoeff()-Y,4&quot; FLOAT, <br>\t&quot;tBodyAcc-arCoeff()-Z,1&quot; FLOAT, <br>\t&quot;tBodyAcc-arCoeff()-Z,2&quot; FLOAT, <br>\t&quot;tBodyAcc-arCoeff()-Z,3&quot; FLOAT, <br>\t&quot;tBodyAcc-arCoeff()-Z,4&quot; FLOAT, <br>\t&quot;tBodyAcc-correlation()-X,Y&quot; FLOAT, <br>\t&quot;tBodyAcc-correlation()-X,Z&quot; FLOAT, <br>\t&quot;tBodyAcc-correlation()-Y,Z&quot; FLOAT, <br>\t&quot;tGravityAcc-mean()-X&quot; FLOAT, <br>\t&quot;tGravityAcc-mean()-Y&quot; FLOAT, <br>\t&quot;tGravityAcc-mean()-Z&quot; FLOAT, <br>\t&quot;tGravityAcc-std()-X&quot; FLOAT, <br>\t&quot;tGravityAcc-std()-Y&quot; FLOAT, <br>\t&quot;tGravityAcc-std()-Z&quot; FLOAT, <br>\t&quot;tGravityAcc-mad()-X&quot; FLOAT, <br>\t&quot;tGravityAcc-mad()-Y&quot; FLOAT, <br>\t&quot;tGravityAcc-mad()-Z&quot; FLOAT, <br>\t&quot;tGravityAcc-max()-X&quot; FLOAT, <br>\t&quot;tGravityAcc-max()-Y&quot; FLOAT, <br>\t&quot;tGravityAcc-max()-Z&quot; FLOAT, <br>\t&quot;tGravityAcc-min()-X&quot; FLOAT, <br>\t&quot;tGravityAcc-min()-Y&quot; FLOAT, <br>\t&quot;tGravityAcc-min()-Z&quot; FLOAT, <br>\t&quot;tGravityAcc-sma()&quot; FLOAT, <br>\t&quot;tGravityAcc-energy()-X&quot; FLOAT, <br>\t&quot;tGravityAcc-energy()-Y&quot; FLOAT, <br>\t&quot;tGravityAcc-energy()-Z&quot; FLOAT, <br>\t&quot;tGravityAcc-iqr()-X&quot; FLOAT, <br>\t&quot;tGravityAcc-iqr()-Y&quot; FLOAT, <br>\t&quot;tGravityAcc-iqr()-Z&quot; FLOAT, <br>\t&quot;tGravityAcc-entropy()-X&quot; FLOAT, <br>\t&quot;tGravityAcc-entropy()-Y&quot; FLOAT, <br>\t&quot;tGravityAcc-entropy()-Z&quot; FLOAT, <br>\t&quot;tGravityAcc-arCoeff()-X,1&quot; FLOAT, <br>\t&quot;tGravityAcc-arCoeff()-X,2&quot; FLOAT, <br>\t&quot;tGravityAcc-arCoeff()-X,3&quot; FLOAT, <br>\t&quot;tGravityAcc-arCoeff()-X,4&quot; FLOAT, <br>\t&quot;tGravityAcc-arCoeff()-Y,1&quot; FLOAT, <br>\t&quot;tGravityAcc-arCoeff()-Y,2&quot; FLOAT, <br>\t&quot;tGravityAcc-arCoeff()-Y,3&quot; FLOAT, <br>\t&quot;tGravityAcc-arCoeff()-Y,4&quot; FLOAT, <br>\t&quot;tGravityAcc-arCoeff()-Z,1&quot; FLOAT, <br>\t&quot;tGravityAcc-arCoeff()-Z,2&quot; FLOAT, <br>\t&quot;tGravityAcc-arCoeff()-Z,3&quot; FLOAT, <br>\t&quot;tGravityAcc-arCoeff()-Z,4&quot; FLOAT, <br>\t&quot;tGravityAcc-correlation()-X,Y&quot; FLOAT, <br>\t&quot;tGravityAcc-correlation()-X,Z&quot; FLOAT, <br>\t&quot;tGravityAcc-correlation()-Y,Z&quot; FLOAT, <br>\t&quot;tBodyAccJerk-mean()-X&quot; FLOAT, <br>\t&quot;tBodyAccJerk-mean()-Y&quot; FLOAT, <br>\t&quot;tBodyAccJerk-mean()-Z&quot; FLOAT, <br>\t&quot;tBodyAccJerk-std()-X&quot; FLOAT, <br>\t&quot;tBodyAccJerk-std()-Y&quot; FLOAT, <br>\t&quot;tBodyAccJerk-std()-Z&quot; FLOAT, <br>\t&quot;tBodyAccJerk-mad()-X&quot; FLOAT, <br>\t&quot;tBodyAccJerk-mad()-Y&quot; FLOAT, <br>\t&quot;tBodyAccJerk-mad()-Z&quot; FLOAT, <br>\t&quot;tBodyAccJerk-max()-X&quot; FLOAT, <br>\t&quot;tBodyAccJerk-max()-Y&quot; FLOAT, <br>\t&quot;tBodyAccJerk-max()-Z&quot; FLOAT, <br>\t&quot;tBodyAccJerk-min()-X&quot; FLOAT, <br>\t&quot;tBodyAccJerk-min()-Y&quot; FLOAT, <br>\t&quot;tBodyAccJerk-min()-Z&quot; FLOAT, <br>\t&quot;tBodyAccJerk-sma()&quot; FLOAT, <br>\t&quot;tBodyAccJerk-energy()-X&quot; FLOAT, <br>\t&quot;tBodyAccJerk-energy()-Y&quot; FLOAT, <br>\t&quot;tBodyAccJerk-energy()-Z&quot; FLOAT, <br>\t&quot;tBodyAccJerk-iqr()-X&quot; FLOAT, <br>\t&quot;tBodyAccJerk-iqr()-Y&quot; FLOAT, <br>\t&quot;tBodyAccJerk-iqr()-Z&quot; FLOAT, <br>\t&quot;tBodyAccJerk-entropy()-X&quot; FLOAT, <br>\t&quot;tBodyAccJerk-entropy()-Y&quot; FLOAT, <br>\t&quot;tBodyAccJerk-entropy()-Z&quot; FLOAT, <br>\t&quot;tBodyAccJerk-arCoeff()-X,1&quot; FLOAT, <br>\t&quot;tBodyAccJerk-arCoeff()-X,2&quot; FLOAT, <br>\t&quot;tBodyAccJerk-arCoeff()-X,3&quot; FLOAT, <br>\t&quot;tBodyAccJerk-arCoeff()-X,4&quot; FLOAT, <br>\t&quot;tBodyAccJerk-arCoeff()-Y,1&quot; FLOAT, <br>\t&quot;tBodyAccJerk-arCoeff()-Y,2&quot; FLOAT, <br>\t&quot;tBodyAccJerk-arCoeff()-Y,3&quot; FLOAT, <br>\t&quot;tBodyAccJerk-arCoeff()-Y,4&quot; FLOAT, <br>\t&quot;tBodyAccJerk-arCoeff()-Z,1&quot; FLOAT, <br>\t&quot;tBodyAccJerk-arCoeff()-Z,2&quot; FLOAT, <br>\t&quot;tBodyAccJerk-arCoeff()-Z,3&quot; FLOAT, <br>\t&quot;tBodyAccJerk-arCoeff()-Z,4&quot; FLOAT, <br>\t&quot;tBodyAccJerk-correlation()-X,Y&quot; FLOAT, <br>\t&quot;tBodyAccJerk-correlation()-X,Z&quot; FLOAT, <br>\t&quot;tBodyAccJerk-correlation()-Y,Z&quot; FLOAT, <br>\t&quot;tBodyGyro-mean()-X&quot; FLOAT, <br>\t&quot;tBodyGyro-mean()-Y&quot; FLOAT, <br>\t&quot;tBodyGyro-mean()-Z&quot; FLOAT, <br>\t&quot;tBodyGyro-std()-X&quot; FLOAT, <br>\t&quot;tBodyGyro-std()-Y&quot; FLOAT, <br>\t&quot;tBodyGyro-std()-Z&quot; FLOAT, <br>\t&quot;tBodyGyro-mad()-X&quot; FLOAT, <br>\t&quot;tBodyGyro-mad()-Y&quot; FLOAT, <br>\t&quot;tBodyGyro-mad()-Z&quot; FLOAT, <br>\t&quot;tBodyGyro-max()-X&quot; FLOAT, <br>\t&quot;tBodyGyro-max()-Y&quot; FLOAT, <br>\t&quot;tBodyGyro-max()-Z&quot; FLOAT, <br>\t&quot;tBodyGyro-min()-X&quot; FLOAT, <br>\t&quot;tBodyGyro-min()-Y&quot; FLOAT, <br>\t&quot;tBodyGyro-min()-Z&quot; FLOAT, <br>\t&quot;tBodyGyro-sma()&quot; FLOAT, <br>\t&quot;tBodyGyro-energy()-X&quot; FLOAT, <br>\t&quot;tBodyGyro-energy()-Y&quot; FLOAT, <br>\t&quot;tBodyGyro-energy()-Z&quot; FLOAT, <br>\t&quot;tBodyGyro-iqr()-X&quot; FLOAT, <br>\t&quot;tBodyGyro-iqr()-Y&quot; FLOAT, <br>\t&quot;tBodyGyro-iqr()-Z&quot; FLOAT, <br>\t&quot;tBodyGyro-entropy()-X&quot; FLOAT, <br>\t&quot;tBodyGyro-entropy()-Y&quot; FLOAT, <br>\t&quot;tBodyGyro-entropy()-Z&quot; FLOAT, <br>\t&quot;tBodyGyro-arCoeff()-X,1&quot; FLOAT, <br>\t&quot;tBodyGyro-arCoeff()-X,2&quot; FLOAT, <br>\t&quot;tBodyGyro-arCoeff()-X,3&quot; FLOAT, <br>\t&quot;tBodyGyro-arCoeff()-X,4&quot; FLOAT, <br>\t&quot;tBodyGyro-arCoeff()-Y,1&quot; FLOAT, <br>\t&quot;tBodyGyro-arCoeff()-Y,2&quot; FLOAT, <br>\t&quot;tBodyGyro-arCoeff()-Y,3&quot; FLOAT, <br>\t&quot;tBodyGyro-arCoeff()-Y,4&quot; FLOAT, <br>\t&quot;tBodyGyro-arCoeff()-Z,1&quot; FLOAT, <br>\t&quot;tBodyGyro-arCoeff()-Z,2&quot; FLOAT, <br>\t&quot;tBodyGyro-arCoeff()-Z,3&quot; FLOAT, <br>\t&quot;tBodyGyro-arCoeff()-Z,4&quot; FLOAT, <br>\t&quot;tBodyGyro-correlation()-X,Y&quot; FLOAT, <br>\t&quot;tBodyGyro-correlation()-X,Z&quot; FLOAT, <br>\t&quot;tBodyGyro-correlation()-Y,Z&quot; FLOAT, <br>\t&quot;tBodyGyroJerk-mean()-X&quot; FLOAT, <br>\t&quot;tBodyGyroJerk-mean()-Y&quot; FLOAT, <br>\t&quot;tBodyGyroJerk-mean()-Z&quot; FLOAT, <br>\t&quot;tBodyGyroJerk-std()-X&quot; FLOAT, <br>\t&quot;tBodyGyroJerk-std()-Y&quot; FLOAT, <br>\t&quot;tBodyGyroJerk-std()-Z&quot; FLOAT, <br>\t&quot;tBodyGyroJerk-mad()-X&quot; FLOAT, <br>\t&quot;tBodyGyroJerk-mad()-Y&quot; FLOAT, <br>\t&quot;tBodyGyroJerk-mad()-Z&quot; FLOAT, <br>\t&quot;tBodyGyroJerk-max()-X&quot; FLOAT, <br>\t&quot;tBodyGyroJerk-max()-Y&quot; FLOAT, <br>\t&quot;tBodyGyroJerk-max()-Z&quot; FLOAT, <br>\t&quot;tBodyGyroJerk-min()-X&quot; FLOAT, <br>\t&quot;tBodyGyroJerk-min()-Y&quot; FLOAT, <br>\t&quot;tBodyGyroJerk-min()-Z&quot; FLOAT, <br>\t&quot;tBodyGyroJerk-sma()&quot; FLOAT, <br>\t&quot;tBodyGyroJerk-energy()-X&quot; FLOAT, <br>\t&quot;tBodyGyroJerk-energy()-Y&quot; FLOAT, <br>\t&quot;tBodyGyroJerk-energy()-Z&quot; FLOAT, <br>\t&quot;tBodyGyroJerk-iqr()-X&quot; FLOAT, <br>\t&quot;tBodyGyroJerk-iqr()-Y&quot; FLOAT, <br>\t&quot;tBodyGyroJerk-iqr()-Z&quot; FLOAT, <br>\t&quot;tBodyGyroJerk-entropy()-X&quot; FLOAT, <br>\t&quot;tBodyGyroJerk-entropy()-Y&quot; FLOAT, <br>\t&quot;tBodyGyroJerk-entropy()-Z&quot; FLOAT, <br>\t&quot;tBodyGyroJerk-arCoeff()-X,1&quot; FLOAT, <br>\t&quot;tBodyGyroJerk-arCoeff()-X,2&quot; FLOAT, <br>\t&quot;tBodyGyroJerk-arCoeff()-X,3&quot; FLOAT, <br>\t&quot;tBodyGyroJerk-arCoeff()-X,4&quot; FLOAT, <br>\t&quot;tBodyGyroJerk-arCoeff()-Y,1&quot; FLOAT, <br>\t&quot;tBodyGyroJerk-arCoeff()-Y,2&quot; FLOAT, <br>\t&quot;tBodyGyroJerk-arCoeff()-Y,3&quot; FLOAT, <br>\t&quot;tBodyGyroJerk-arCoeff()-Y,4&quot; FLOAT, <br>\t&quot;tBodyGyroJerk-arCoeff()-Z,1&quot; FLOAT, <br>\t&quot;tBodyGyroJerk-arCoeff()-Z,2&quot; FLOAT, <br>\t&quot;tBodyGyroJerk-arCoeff()-Z,3&quot; FLOAT, <br>\t&quot;tBodyGyroJerk-arCoeff()-Z,4&quot; FLOAT, <br>\t&quot;tBodyGyroJerk-correlation()-X,Y&quot; FLOAT, <br>\t&quot;tBodyGyroJerk-correlation()-X,Z&quot; FLOAT, <br>\t&quot;tBodyGyroJerk-correlation()-Y,Z&quot; FLOAT, <br>\t&quot;tBodyAccMag-mean()&quot; FLOAT, <br>\t&quot;tBodyAccMag-std()&quot; FLOAT, <br>\t&quot;tBodyAccMag-mad()&quot; FLOAT, <br>\t&quot;tBodyAccMag-max()&quot; FLOAT, <br>\t&quot;tBodyAccMag-min()&quot; FLOAT, <br>\t&quot;tBodyAccMag-sma()&quot; FLOAT, <br>\t&quot;tBodyAccMag-energy()&quot; FLOAT, <br>\t&quot;tBodyAccMag-iqr()&quot; FLOAT, <br>\t&quot;tBodyAccMag-entropy()&quot; FLOAT, <br>\t&quot;tBodyAccMag-arCoeff()1&quot; FLOAT, <br>\t&quot;tBodyAccMag-arCoeff()2&quot; FLOAT, <br>\t&quot;tBodyAccMag-arCoeff()3&quot; FLOAT, <br>\t&quot;tBodyAccMag-arCoeff()4&quot; FLOAT, <br>\t&quot;tGravityAccMag-mean()&quot; FLOAT, <br>\t&quot;tGravityAccMag-std()&quot; FLOAT, <br>\t&quot;tGravityAccMag-mad()&quot; FLOAT, <br>\t&quot;tGravityAccMag-max()&quot; FLOAT, <br>\t&quot;tGravityAccMag-min()&quot; FLOAT, <br>\t&quot;tGravityAccMag-sma()&quot; FLOAT, <br>\t&quot;tGravityAccMag-energy()&quot; FLOAT, <br>\t&quot;tGravityAccMag-iqr()&quot; FLOAT, <br>\t&quot;tGravityAccMag-entropy()&quot; FLOAT, <br>\t&quot;tGravityAccMag-arCoeff()1&quot; FLOAT, <br>\t&quot;tGravityAccMag-arCoeff()2&quot; FLOAT, <br>\t&quot;tGravityAccMag-arCoeff()3&quot; FLOAT, <br>\t&quot;tGravityAccMag-arCoeff()4&quot; FLOAT, <br>\t&quot;tBodyAccJerkMag-mean()&quot; FLOAT, <br>\t&quot;tBodyAccJerkMag-std()&quot; FLOAT, <br>\t&quot;tBodyAccJerkMag-mad()&quot; FLOAT, <br>\t&quot;tBodyAccJerkMag-max()&quot; FLOAT, <br>\t&quot;tBodyAccJerkMag-min()&quot; FLOAT, <br>\t&quot;tBodyAccJerkMag-sma()&quot; FLOAT, <br>\t&quot;tBodyAccJerkMag-energy()&quot; FLOAT, <br>\t&quot;tBodyAccJerkMag-iqr()&quot; FLOAT, <br>\t&quot;tBodyAccJerkMag-entropy()&quot; FLOAT, <br>\t&quot;tBodyAccJerkMag-arCoeff()1&quot; FLOAT, <br>\t&quot;tBodyAccJerkMag-arCoeff()2&quot; FLOAT, <br>\t&quot;tBodyAccJerkMag-arCoeff()3&quot; FLOAT, <br>\t&quot;tBodyAccJerkMag-arCoeff()4&quot; FLOAT, <br>\t&quot;tBodyGyroMag-mean()&quot; FLOAT, <br>\t&quot;tBodyGyroMag-std()&quot; FLOAT, <br>\t&quot;tBodyGyroMag-mad()&quot; FLOAT, <br>\t&quot;tBodyGyroMag-max()&quot; FLOAT, <br>\t&quot;tBodyGyroMag-min()&quot; FLOAT, <br>\t&quot;tBodyGyroMag-sma()&quot; FLOAT, <br>\t&quot;tBodyGyroMag-energy()&quot; FLOAT, <br>\t&quot;tBodyGyroMag-iqr()&quot; FLOAT, <br>\t&quot;tBodyGyroMag-entropy()&quot; FLOAT, <br>\t&quot;tBodyGyroMag-arCoeff()1&quot; FLOAT, <br>\t&quot;tBodyGyroMag-arCoeff()2&quot; FLOAT, <br>\t&quot;tBodyGyroMag-arCoeff()3&quot; FLOAT, <br>\t&quot;tBodyGyroMag-arCoeff()4&quot; FLOAT, <br>\t&quot;tBodyGyroJerkMag-mean()&quot; FLOAT, <br>\t&quot;tBodyGyroJerkMag-std()&quot; FLOAT, <br>\t&quot;tBodyGyroJerkMag-mad()&quot; FLOAT, <br>\t&quot;tBodyGyroJerkMag-max()&quot; FLOAT, <br>\t&quot;tBodyGyroJerkMag-min()&quot; FLOAT, <br>\t&quot;tBodyGyroJerkMag-sma()&quot; FLOAT, <br>\t&quot;tBodyGyroJerkMag-energy()&quot; FLOAT, <br>\t&quot;tBodyGyroJerkMag-iqr()&quot; FLOAT, <br>\t&quot;tBodyGyroJerkMag-entropy()&quot; FLOAT, <br>\t&quot;tBodyGyroJerkMag-arCoeff()1&quot; FLOAT, <br>\t&quot;tBodyGyroJerkMag-arCoeff()2&quot; FLOAT, <br>\t&quot;tBodyGyroJerkMag-arCoeff()3&quot; FLOAT, <br>\t&quot;tBodyGyroJerkMag-arCoeff()4&quot; FLOAT, <br>\t&quot;fBodyAcc-mean()-X&quot; FLOAT, <br>\t&quot;fBodyAcc-mean()-Y&quot; FLOAT, <br>\t&quot;fBodyAcc-mean()-Z&quot; FLOAT, <br>\t&quot;fBodyAcc-std()-X&quot; FLOAT, <br>\t&quot;fBodyAcc-std()-Y&quot; FLOAT, <br>\t&quot;fBodyAcc-std()-Z&quot; FLOAT, <br>\t&quot;fBodyAcc-mad()-X&quot; FLOAT, <br>\t&quot;fBodyAcc-mad()-Y&quot; FLOAT, <br>\t&quot;fBodyAcc-mad()-Z&quot; FLOAT, <br>\t&quot;fBodyAcc-max()-X&quot; FLOAT, <br>\t&quot;fBodyAcc-max()-Y&quot; FLOAT, <br>\t&quot;fBodyAcc-max()-Z&quot; FLOAT, <br>\t&quot;fBodyAcc-min()-X&quot; FLOAT, <br>\t&quot;fBodyAcc-min()-Y&quot; FLOAT, <br>\t&quot;fBodyAcc-min()-Z&quot; FLOAT, <br>\t&quot;fBodyAcc-sma()&quot; FLOAT, <br>\t&quot;fBodyAcc-energy()-X&quot; FLOAT, <br>\t&quot;fBodyAcc-energy()-Y&quot; FLOAT, <br>\t&quot;fBodyAcc-energy()-Z&quot; FLOAT, <br>\t&quot;fBodyAcc-iqr()-X&quot; FLOAT, <br>\t&quot;fBodyAcc-iqr()-Y&quot; FLOAT, <br>\t&quot;fBodyAcc-iqr()-Z&quot; FLOAT, <br>\t&quot;fBodyAcc-entropy()-X&quot; FLOAT, <br>\t&quot;fBodyAcc-entropy()-Y&quot; FLOAT, <br>\t&quot;fBodyAcc-entropy()-Z&quot; FLOAT, <br>\t&quot;fBodyAcc-maxInds-X&quot; FLOAT, <br>\t&quot;fBodyAcc-maxInds-Y&quot; FLOAT, <br>\t&quot;fBodyAcc-maxInds-Z&quot; FLOAT, <br>\t&quot;fBodyAcc-meanFreq()-X&quot; FLOAT, <br>\t&quot;fBodyAcc-meanFreq()-Y&quot; FLOAT, <br>\t&quot;fBodyAcc-meanFreq()-Z&quot; FLOAT, <br>\t&quot;fBodyAcc-skewness()-X&quot; FLOAT, <br>\t&quot;fBodyAcc-kurtosis()-X&quot; FLOAT, <br>\t&quot;fBodyAcc-skewness()-Y&quot; FLOAT, <br>\t&quot;fBodyAcc-kurtosis()-Y&quot; FLOAT, <br>\t&quot;fBodyAcc-skewness()-Z&quot; FLOAT, <br>\t&quot;fBodyAcc-kurtosis()-Z&quot; FLOAT, <br>\t&quot;fBodyAcc-bandsEnergy()-1,8&quot; FLOAT, <br>\t&quot;fBodyAcc-bandsEnergy()-9,16&quot; FLOAT, <br>\t&quot;fBodyAcc-bandsEnergy()-17,24&quot; FLOAT, <br>\t&quot;fBodyAcc-bandsEnergy()-25,32&quot; FLOAT, <br>\t&quot;fBodyAcc-bandsEnergy()-33,40&quot; FLOAT, <br>\t&quot;fBodyAcc-bandsEnergy()-41,48&quot; FLOAT, <br>\t&quot;fBodyAcc-bandsEnergy()-49,56&quot; FLOAT, <br>\t&quot;fBodyAcc-bandsEnergy()-57,64&quot; FLOAT, <br>\t&quot;fBodyAcc-bandsEnergy()-1,16&quot; FLOAT, <br>\t&quot;fBodyAcc-bandsEnergy()-17,32&quot; FLOAT, <br>\t&quot;fBodyAcc-bandsEnergy()-33,48&quot; FLOAT, <br>\t&quot;fBodyAcc-bandsEnergy()-49,64&quot; FLOAT, <br>\t&quot;fBodyAcc-bandsEnergy()-1,24&quot; FLOAT, <br>\t&quot;fBodyAcc-bandsEnergy()-25,48&quot; FLOAT, <br>\t&quot;fBodyAccJerk-mean()-X&quot; FLOAT, <br>\t&quot;fBodyAccJerk-mean()-Y&quot; FLOAT, <br>\t&quot;fBodyAccJerk-mean()-Z&quot; FLOAT, <br>\t&quot;fBodyAccJerk-std()-X&quot; FLOAT, <br>\t&quot;fBodyAccJerk-std()-Y&quot; FLOAT, <br>\t&quot;fBodyAccJerk-std()-Z&quot; FLOAT, <br>\t&quot;fBodyAccJerk-mad()-X&quot; FLOAT, <br>\t&quot;fBodyAccJerk-mad()-Y&quot; FLOAT, <br>\t&quot;fBodyAccJerk-mad()-Z&quot; FLOAT, <br>\t&quot;fBodyAccJerk-max()-X&quot; FLOAT, <br>\t&quot;fBodyAccJerk-max()-Y&quot; FLOAT, <br>\t&quot;fBodyAccJerk-max()-Z&quot; FLOAT, <br>\t&quot;fBodyAccJerk-min()-X&quot; FLOAT, <br>\t&quot;fBodyAccJerk-min()-Y&quot; FLOAT, <br>\t&quot;fBodyAccJerk-min()-Z&quot; FLOAT, <br>\t&quot;fBodyAccJerk-sma()&quot; FLOAT, <br>\t&quot;fBodyAccJerk-energy()-X&quot; FLOAT, <br>\t&quot;fBodyAccJerk-energy()-Y&quot; FLOAT, <br>\t&quot;fBodyAccJerk-energy()-Z&quot; FLOAT, <br>\t&quot;fBodyAccJerk-iqr()-X&quot; FLOAT, <br>\t&quot;fBodyAccJerk-iqr()-Y&quot; FLOAT, <br>\t&quot;fBodyAccJerk-iqr()-Z&quot; FLOAT, <br>\t&quot;fBodyAccJerk-entropy()-X&quot; FLOAT, <br>\t&quot;fBodyAccJerk-entropy()-Y&quot; FLOAT, <br>\t&quot;fBodyAccJerk-entropy()-Z&quot; FLOAT, <br>\t&quot;fBodyAccJerk-maxInds-X&quot; FLOAT, <br>\t&quot;fBodyAccJerk-maxInds-Y&quot; FLOAT, <br>\t&quot;fBodyAccJerk-maxInds-Z&quot; FLOAT, <br>\t&quot;fBodyAccJerk-meanFreq()-X&quot; FLOAT, <br>\t&quot;fBodyAccJerk-meanFreq()-Y&quot; FLOAT, <br>\t&quot;fBodyAccJerk-meanFreq()-Z&quot; FLOAT, <br>\t&quot;fBodyAccJerk-skewness()-X&quot; FLOAT, <br>\t&quot;fBodyAccJerk-kurtosis()-X&quot; FLOAT, <br>\t&quot;fBodyAccJerk-skewness()-Y&quot; FLOAT, <br>\t&quot;fBodyAccJerk-kurtosis()-Y&quot; FLOAT, <br>\t&quot;fBodyAccJerk-skewness()-Z&quot; FLOAT, <br>\t&quot;fBodyAccJerk-kurtosis()-Z&quot; FLOAT, <br>\t&quot;fBodyAccJerk-bandsEnergy()-1,8&quot; FLOAT, <br>\t&quot;fBodyAccJerk-bandsEnergy()-9,16&quot; FLOAT, <br>\t&quot;fBodyAccJerk-bandsEnergy()-17,24&quot; FLOAT, <br>\t&quot;fBodyAccJerk-bandsEnergy()-25,32&quot; FLOAT, <br>\t&quot;fBodyAccJerk-bandsEnergy()-33,40&quot; FLOAT, <br>\t&quot;fBodyAccJerk-bandsEnergy()-41,48&quot; FLOAT, <br>\t&quot;fBodyAccJerk-bandsEnergy()-49,56&quot; FLOAT, <br>\t&quot;fBodyAccJerk-bandsEnergy()-57,64&quot; FLOAT, <br>\t&quot;fBodyAccJerk-bandsEnergy()-1,16&quot; FLOAT, <br>\t&quot;fBodyAccJerk-bandsEnergy()-17,32&quot; FLOAT, <br>\t&quot;fBodyAccJerk-bandsEnergy()-33,48&quot; FLOAT, <br>\t&quot;fBodyAccJerk-bandsEnergy()-49,64&quot; FLOAT, <br>\t&quot;fBodyAccJerk-bandsEnergy()-1,24&quot; FLOAT, <br>\t&quot;fBodyAccJerk-bandsEnergy()-25,48&quot; FLOAT, <br>\t&quot;fBodyGyro-mean()-X&quot; FLOAT, <br>\t&quot;fBodyGyro-mean()-Y&quot; FLOAT, <br>\t&quot;fBodyGyro-mean()-Z&quot; FLOAT, <br>\t&quot;fBodyGyro-std()-X&quot; FLOAT, <br>\t&quot;fBodyGyro-std()-Y&quot; FLOAT, <br>\t&quot;fBodyGyro-std()-Z&quot; FLOAT, <br>\t&quot;fBodyGyro-mad()-X&quot; FLOAT, <br>\t&quot;fBodyGyro-mad()-Y&quot; FLOAT, <br>\t&quot;fBodyGyro-mad()-Z&quot; FLOAT, <br>\t&quot;fBodyGyro-max()-X&quot; FLOAT, <br>\t&quot;fBodyGyro-max()-Y&quot; FLOAT, <br>\t&quot;fBodyGyro-max()-Z&quot; FLOAT, <br>\t&quot;fBodyGyro-min()-X&quot; FLOAT, <br>\t&quot;fBodyGyro-min()-Y&quot; FLOAT, <br>\t&quot;fBodyGyro-min()-Z&quot; FLOAT, <br>\t&quot;fBodyGyro-sma()&quot; FLOAT, <br>\t&quot;fBodyGyro-energy()-X&quot; FLOAT, <br>\t&quot;fBodyGyro-energy()-Y&quot; FLOAT, <br>\t&quot;fBodyGyro-energy()-Z&quot; FLOAT, <br>\t&quot;fBodyGyro-iqr()-X&quot; FLOAT, <br>\t&quot;fBodyGyro-iqr()-Y&quot; FLOAT, <br>\t&quot;fBodyGyro-iqr()-Z&quot; FLOAT, <br>\t&quot;fBodyGyro-entropy()-X&quot; FLOAT, <br>\t&quot;fBodyGyro-entropy()-Y&quot; FLOAT, <br>\t&quot;fBodyGyro-entropy()-Z&quot; FLOAT, <br>\t&quot;fBodyGyro-maxInds-X&quot; FLOAT, <br>\t&quot;fBodyGyro-maxInds-Y&quot; FLOAT, <br>\t&quot;fBodyGyro-maxInds-Z&quot; FLOAT, <br>\t&quot;fBodyGyro-meanFreq()-X&quot; FLOAT, <br>\t&quot;fBodyGyro-meanFreq()-Y&quot; FLOAT, <br>\t&quot;fBodyGyro-meanFreq()-Z&quot; FLOAT, <br>\t&quot;fBodyGyro-skewness()-X&quot; FLOAT, <br>\t&quot;fBodyGyro-kurtosis()-X&quot; FLOAT, <br>\t&quot;fBodyGyro-skewness()-Y&quot; FLOAT, <br>\t&quot;fBodyGyro-kurtosis()-Y&quot; FLOAT, <br>\t&quot;fBodyGyro-skewness()-Z&quot; FLOAT, <br>\t&quot;fBodyGyro-kurtosis()-Z&quot; FLOAT, <br>\t&quot;fBodyGyro-bandsEnergy()-1,8&quot; FLOAT, <br>\t&quot;fBodyGyro-bandsEnergy()-9,16&quot; FLOAT, <br>\t&quot;fBodyGyro-bandsEnergy()-17,24&quot; FLOAT, <br>\t&quot;fBodyGyro-bandsEnergy()-25,32&quot; FLOAT, <br>\t&quot;fBodyGyro-bandsEnergy()-33,40&quot; FLOAT, <br>\t&quot;fBodyGyro-bandsEnergy()-41,48&quot; FLOAT, <br>\t&quot;fBodyGyro-bandsEnergy()-49,56&quot; FLOAT, <br>\t&quot;fBodyGyro-bandsEnergy()-57,64&quot; FLOAT, <br>\t&quot;fBodyGyro-bandsEnergy()-1,16&quot; FLOAT, <br>\t&quot;fBodyGyro-bandsEnergy()-17,32&quot; FLOAT, <br>\t&quot;fBodyGyro-bandsEnergy()-33,48&quot; FLOAT, <br>\t&quot;fBodyGyro-bandsEnergy()-49,64&quot; FLOAT, <br>\t&quot;fBodyGyro-bandsEnergy()-1,24&quot; FLOAT, <br>\t&quot;fBodyGyro-bandsEnergy()-25,48&quot; FLOAT, <br>\t&quot;fBodyAccMag-mean()&quot; FLOAT, <br>\t&quot;fBodyAccMag-std()&quot; FLOAT, <br>\t&quot;fBodyAccMag-mad()&quot; FLOAT, <br>\t&quot;fBodyAccMag-max()&quot; FLOAT, <br>\t&quot;fBodyAccMag-min()&quot; FLOAT, <br>\t&quot;fBodyAccMag-sma()&quot; FLOAT, <br>\t&quot;fBodyAccMag-energy()&quot; FLOAT, <br>\t&quot;fBodyAccMag-iqr()&quot; FLOAT, <br>\t&quot;fBodyAccMag-entropy()&quot; FLOAT, <br>\t&quot;fBodyAccMag-maxInds&quot; FLOAT, <br>\t&quot;fBodyAccMag-meanFreq()&quot; FLOAT, <br>\t&quot;fBodyAccMag-skewness()&quot; FLOAT, <br>\t&quot;fBodyAccMag-kurtosis()&quot; FLOAT, <br>\t&quot;fBodyBodyAccJerkMag-mean()&quot; FLOAT, <br>\t&quot;fBodyBodyAccJerkMag-std()&quot; FLOAT, <br>\t&quot;fBodyBodyAccJerkMag-mad()&quot; FLOAT, <br>\t&quot;fBodyBodyAccJerkMag-max()&quot; FLOAT, <br>\t&quot;fBodyBodyAccJerkMag-min()&quot; FLOAT, <br>\t&quot;fBodyBodyAccJerkMag-sma()&quot; FLOAT, <br>\t&quot;fBodyBodyAccJerkMag-energy()&quot; FLOAT, <br>\t&quot;fBodyBodyAccJerkMag-iqr()&quot; FLOAT, <br>\t&quot;fBodyBodyAccJerkMag-entropy()&quot; FLOAT, <br>\t&quot;fBodyBodyAccJerkMag-maxInds&quot; FLOAT, <br>\t&quot;fBodyBodyAccJerkMag-meanFreq()&quot; FLOAT, <br>\t&quot;fBodyBodyAccJerkMag-skewness()&quot; FLOAT, <br>\t&quot;fBodyBodyAccJerkMag-kurtosis()&quot; FLOAT, <br>\t&quot;fBodyBodyGyroMag-mean()&quot; FLOAT, <br>\t&quot;fBodyBodyGyroMag-std()&quot; FLOAT, <br>\t&quot;fBodyBodyGyroMag-mad()&quot; FLOAT, <br>\t&quot;fBodyBodyGyroMag-max()&quot; FLOAT, <br>\t&quot;fBodyBodyGyroMag-min()&quot; FLOAT, <br>\t&quot;fBodyBodyGyroMag-sma()&quot; FLOAT, <br>\t&quot;fBodyBodyGyroMag-energy()&quot; FLOAT, <br>\t&quot;fBodyBodyGyroMag-iqr()&quot; FLOAT, <br>\t&quot;fBodyBodyGyroMag-entropy()&quot; FLOAT, <br>\t&quot;fBodyBodyGyroMag-maxInds&quot; FLOAT, <br>\t&quot;fBodyBodyGyroMag-meanFreq()&quot; FLOAT, <br>\t&quot;fBodyBodyGyroMag-skewness()&quot; FLOAT, <br>\t&quot;fBodyBodyGyroMag-kurtosis()&quot; FLOAT, <br>\t&quot;fBodyBodyGyroJerkMag-mean()&quot; FLOAT, <br>\t&quot;fBodyBodyGyroJerkMag-std()&quot; FLOAT, <br>\t&quot;fBodyBodyGyroJerkMag-mad()&quot; FLOAT, <br>\t&quot;fBodyBodyGyroJerkMag-max()&quot; FLOAT, <br>\t&quot;fBodyBodyGyroJerkMag-min()&quot; FLOAT, <br>\t&quot;fBodyBodyGyroJerkMag-sma()&quot; FLOAT, <br>\t&quot;fBodyBodyGyroJerkMag-energy()&quot; FLOAT, <br>\t&quot;fBodyBodyGyroJerkMag-iqr()&quot; FLOAT, <br>\t&quot;fBodyBodyGyroJerkMag-entropy()&quot; FLOAT, <br>\t&quot;fBodyBodyGyroJerkMag-maxInds&quot; FLOAT, <br>\t&quot;fBodyBodyGyroJerkMag-meanFreq()&quot; FLOAT, <br>\t&quot;fBodyBodyGyroJerkMag-skewness()&quot; FLOAT, <br>\t&quot;fBodyBodyGyroJerkMag-kurtosis()&quot; FLOAT, <br>\t&quot;angle(tBodyAccMean,gravity)&quot; FLOAT, <br>\t&quot;angle(tBodyAccJerkMean),gravityMean)&quot; FLOAT, <br>\t&quot;angle(tBodyGyroMean,gravityMean)&quot; FLOAT, <br>\t&quot;angle(tBodyGyroJerkMean,gravityMean)&quot; FLOAT, <br>\t&quot;angle(X,gravityMean)&quot; FLOAT, <br>\t&quot;angle(Y,gravityMean)&quot; FLOAT, <br>\t&quot;angle(Z,gravityMean)&quot; FLOAT, <br>\tactivity FLOAT<br>)</td>\n",
       "    </tr>\n",
       "</table>"
      ],
      "text/plain": [
       "[('table', 'har', 'har', 2, 'CREATE TABLE har (\\n\\tsubject BIGINT, \\n\\t\"tBodyAcc-mean()-X\" FLOAT, \\n\\t\"tBodyAcc-mean()-Y\" FLOAT, \\n\\t\"tBodyAcc-mean()-Z\" FLOAT, \\n\\t\"tBodyAcc-std( ... (17065 characters truncated) ... Mean,gravityMean)\" FLOAT, \\n\\t\"angle(X,gravityMean)\" FLOAT, \\n\\t\"angle(Y,gravityMean)\" FLOAT, \\n\\t\"angle(Z,gravityMean)\" FLOAT, \\n\\tactivity FLOAT\\n)')]"
      ]
     },
     "execution_count": 51,
     "metadata": {},
     "output_type": "execute_result"
    }
   ],
   "source": [
    "%%sql \n",
    "\n",
    "SELECT * FROM sqlite_master WHERe type='table'"
   ]
  },
  {
   "cell_type": "code",
   "execution_count": 48,
   "metadata": {},
   "outputs": [
    {
     "ename": "IndexError",
     "evalue": "list index out of range",
     "output_type": "error",
     "traceback": [
      "\u001b[0;31m\u001b[0m",
      "\u001b[0;31mIndexError\u001b[0mTraceback (most recent call last)",
      "\u001b[0;32m<ipython-input-48-4fdad7f9a7ee>\u001b[0m in \u001b[0;36m<module>\u001b[0;34m\u001b[0m\n\u001b[0;32m----> 1\u001b[0;31m \u001b[0mmaster\u001b[0m\u001b[0;34m[\u001b[0m\u001b[0;36m0\u001b[0m\u001b[0;34m]\u001b[0m\u001b[0;34m\u001b[0m\u001b[0;34m\u001b[0m\u001b[0m\n\u001b[0m",
      "\u001b[0;32m/opt/conda/lib/python3.7/site-packages/sql/run.py\u001b[0m in \u001b[0;36m__getitem__\u001b[0;34m(self, key)\u001b[0m\n\u001b[1;32m    147\u001b[0m         \"\"\"\n\u001b[1;32m    148\u001b[0m         \u001b[0;32mtry\u001b[0m\u001b[0;34m:\u001b[0m\u001b[0;34m\u001b[0m\u001b[0;34m\u001b[0m\u001b[0m\n\u001b[0;32m--> 149\u001b[0;31m             \u001b[0;32mreturn\u001b[0m \u001b[0mlist\u001b[0m\u001b[0;34m.\u001b[0m\u001b[0m__getitem__\u001b[0m\u001b[0;34m(\u001b[0m\u001b[0mself\u001b[0m\u001b[0;34m,\u001b[0m \u001b[0mkey\u001b[0m\u001b[0;34m)\u001b[0m\u001b[0;34m\u001b[0m\u001b[0;34m\u001b[0m\u001b[0m\n\u001b[0m\u001b[1;32m    150\u001b[0m         \u001b[0;32mexcept\u001b[0m \u001b[0mTypeError\u001b[0m\u001b[0;34m:\u001b[0m\u001b[0;34m\u001b[0m\u001b[0;34m\u001b[0m\u001b[0m\n\u001b[1;32m    151\u001b[0m             \u001b[0mresult\u001b[0m \u001b[0;34m=\u001b[0m \u001b[0;34m[\u001b[0m\u001b[0mrow\u001b[0m \u001b[0;32mfor\u001b[0m \u001b[0mrow\u001b[0m \u001b[0;32min\u001b[0m \u001b[0mself\u001b[0m \u001b[0;32mif\u001b[0m \u001b[0mrow\u001b[0m\u001b[0;34m[\u001b[0m\u001b[0;36m0\u001b[0m\u001b[0;34m]\u001b[0m \u001b[0;34m==\u001b[0m \u001b[0mkey\u001b[0m\u001b[0;34m]\u001b[0m\u001b[0;34m\u001b[0m\u001b[0;34m\u001b[0m\u001b[0m\n",
      "\u001b[0;31mIndexError\u001b[0m: list index out of range"
     ]
    }
   ],
   "source": [
    "master."
   ]
  },
  {
   "cell_type": "code",
   "execution_count": null,
   "metadata": {},
   "outputs": [],
   "source": []
  }
 ],
 "metadata": {
  "kernelspec": {
   "display_name": "Python 3",
   "language": "python",
   "name": "python3"
  },
  "language_info": {
   "codemirror_mode": {
    "name": "ipython",
    "version": 3
   },
   "file_extension": ".py",
   "mimetype": "text/x-python",
   "name": "python",
   "nbconvert_exporter": "python",
   "pygments_lexer": "ipython3",
   "version": "3.7.8"
  }
 },
 "nbformat": 4,
 "nbformat_minor": 2
}
