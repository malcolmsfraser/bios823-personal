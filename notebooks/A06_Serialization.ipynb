{
 "cells": [
  {
   "cell_type": "markdown",
   "metadata": {},
   "source": [
    "# Saving and sharing data"
   ]
  },
  {
   "cell_type": "markdown",
   "metadata": {},
   "source": [
    "Many data science applications require an intermediate storage format for transfer of data. The data to be stored may be structurally complex or large. One application is serialization."
   ]
  },
  {
   "cell_type": "markdown",
   "metadata": {},
   "source": [
    "## Serialization\n",
    "\n",
    "From [Wikipedia](https://en.wikipedia.org/wiki/Serialization)\n",
    "\n",
    "> In computing, serialization (US spelling) or serialisation (UK spelling) is the process of translating a data structure or object state into a format that can be stored (for example, in a file or memory data buffer) or transmitted (for example, across a computer network) and reconstructed later (possibly in a different computer environment)\n"
   ]
  },
  {
   "cell_type": "markdown",
   "metadata": {},
   "source": [
    "### ML example"
   ]
  },
  {
   "cell_type": "markdown",
   "metadata": {},
   "source": [
    "\n",
    "For example, in ML applications, we often need to store details about a machine learning model (including train/test data so that we can compare it with other models. These may then need to be transferred across computers to perform comparative analysis.  \n",
    "\n",
    "Note that TensorFlow and PyTorch provide their own model serialization protocols. We will cover them later."
   ]
  },
  {
   "cell_type": "markdown",
   "metadata": {},
   "source": [
    "We illustrate with an example from `scikit-learn` docs."
   ]
  },
  {
   "cell_type": "code",
   "execution_count": 1,
   "metadata": {},
   "outputs": [
    {
     "data": {
      "text/plain": [
       "0.88"
      ]
     },
     "execution_count": 1,
     "metadata": {},
     "output_type": "execute_result"
    }
   ],
   "source": [
    "from sklearn.svm import SVC\n",
    "from sklearn.preprocessing import StandardScaler\n",
    "from sklearn.datasets import make_classification\n",
    "from sklearn.model_selection import train_test_split\n",
    "from sklearn.pipeline import Pipeline\n",
    "X, y = make_classification(random_state=0)\n",
    "X_train, X_test, y_train, y_test = train_test_split(X, y,\n",
    "                                                    random_state=0)\n",
    "pipe = Pipeline([('scaler', StandardScaler()), ('svc', SVC())])\n",
    "pipe.fit(X_train, y_train)\n",
    "pipe.score(X_test, y_test)"
   ]
  },
  {
   "cell_type": "markdown",
   "metadata": {},
   "source": [
    "We monkey-patch the pipeline to give it a name."
   ]
  },
  {
   "cell_type": "code",
   "execution_count": 2,
   "metadata": {},
   "outputs": [],
   "source": [
    "pipe.name = 'my_pipeline_0.0.1'"
   ]
  },
  {
   "cell_type": "markdown",
   "metadata": {},
   "source": [
    "A pipeline has several parameters."
   ]
  },
  {
   "cell_type": "code",
   "execution_count": 3,
   "metadata": {},
   "outputs": [
    {
     "data": {
      "text/plain": [
       "{'memory': None,\n",
       " 'steps': [('scaler', StandardScaler()), ('svc', SVC())],\n",
       " 'verbose': False,\n",
       " 'scaler': StandardScaler(),\n",
       " 'svc': SVC(),\n",
       " 'scaler__copy': True,\n",
       " 'scaler__with_mean': True,\n",
       " 'scaler__with_std': True,\n",
       " 'svc__C': 1.0,\n",
       " 'svc__break_ties': False,\n",
       " 'svc__cache_size': 200,\n",
       " 'svc__class_weight': None,\n",
       " 'svc__coef0': 0.0,\n",
       " 'svc__decision_function_shape': 'ovr',\n",
       " 'svc__degree': 3,\n",
       " 'svc__gamma': 'scale',\n",
       " 'svc__kernel': 'rbf',\n",
       " 'svc__max_iter': -1,\n",
       " 'svc__probability': False,\n",
       " 'svc__random_state': None,\n",
       " 'svc__shrinking': True,\n",
       " 'svc__tol': 0.001,\n",
       " 'svc__verbose': False}"
      ]
     },
     "execution_count": 3,
     "metadata": {},
     "output_type": "execute_result"
    }
   ],
   "source": [
    "pipe.get_params()"
   ]
  },
  {
   "cell_type": "markdown",
   "metadata": {},
   "source": [
    "We also want to know the data used to train and test the model. Here 2 samples of training data are shown."
   ]
  },
  {
   "cell_type": "code",
   "execution_count": 4,
   "metadata": {},
   "outputs": [
    {
     "data": {
      "text/plain": [
       "array([[-0.65240858,  0.49374178,  1.30184623, -1.28532883, -1.94473774,\n",
       "         2.06449286, -2.03068447,  1.02017271,  0.68981816,  0.28634369,\n",
       "        -0.43265956,  0.60884383,  1.21114529, -0.11610394, -0.69204985,\n",
       "        -0.39095338,  1.53637705, -1.30819171, -1.04525337, -0.11054066],\n",
       "       [ 0.35178011, -0.47003288, -0.37914756, -0.15902752, -2.23460699,\n",
       "        -0.17858909, -0.9301565 ,  0.41731882,  0.11514787, -1.40596292,\n",
       "         1.13712778, -0.59005765, -1.66069981, -0.21673147, -0.94436849,\n",
       "         0.37923553,  0.23810315, -2.38076394, -0.11048941, -1.55042935]])"
      ]
     },
     "execution_count": 4,
     "metadata": {},
     "output_type": "execute_result"
    }
   ],
   "source": [
    "X_train[:2]"
   ]
  },
  {
   "cell_type": "code",
   "execution_count": 5,
   "metadata": {},
   "outputs": [
    {
     "data": {
      "text/plain": [
       "array([0, 0])"
      ]
     },
     "execution_count": 5,
     "metadata": {},
     "output_type": "execute_result"
    }
   ],
   "source": [
    "y_train[:2]"
   ]
  },
  {
   "cell_type": "markdown",
   "metadata": {},
   "source": [
    "We combine these into a single data structure."
   ]
  },
  {
   "cell_type": "code",
   "execution_count": 6,
   "metadata": {},
   "outputs": [],
   "source": [
    "python_model = {\n",
    "    'model': pipe,\n",
    "    'X_train': X_train,\n",
    "    'y_train': y_train,\n",
    "    'X_test': X_test,\n",
    "    'y_test': y_test\n",
    "}"
   ]
  },
  {
   "cell_type": "code",
   "execution_count": 7,
   "metadata": {},
   "outputs": [
    {
     "data": {
      "text/plain": [
       "'my_pipeline_0.0.1_2021-09-13T22:15:36.559653+00:00'"
      ]
     },
     "execution_count": 7,
     "metadata": {},
     "output_type": "execute_result"
    }
   ],
   "source": [
    "import pendulum\n",
    "\n",
    "filename_base = f'{pipe.name}_{pendulum.now()}'\n",
    "filename_base"
   ]
  },
  {
   "cell_type": "markdown",
   "metadata": {},
   "source": [
    "## Python native data formats\n",
    "\n",
    "If you only ever use Python and don't need to share your data with anyone else, you can use efficient data structures native to Python."
   ]
  },
  {
   "cell_type": "markdown",
   "metadata": {},
   "source": [
    "### Pickle"
   ]
  },
  {
   "cell_type": "code",
   "execution_count": 8,
   "metadata": {},
   "outputs": [],
   "source": [
    "import pickle"
   ]
  },
  {
   "cell_type": "code",
   "execution_count": 9,
   "metadata": {},
   "outputs": [],
   "source": [
    "# Note that we need to open file in write binary\n",
    "pickle_file = f'{filename_base}.pickle'\n",
    "with open(pickle_file, 'wb') as f:\n",
    "    pickle.dump(python_model, f)"
   ]
  },
  {
   "cell_type": "code",
   "execution_count": 10,
   "metadata": {},
   "outputs": [
    {
     "name": "stdout",
     "output_type": "stream",
     "text": [
      "�\u0003}q\u0000(X\u0005\u0000\u0000\u0000modelq\u0001csklearn.pipeline\r\n",
      "Pipeline\r\n",
      "q\u0002)�q\u0003}q\u0004(X\u0005\u0000\u0000\u0000stepsq\u0005]q\u0006(X\u0006\u0000\u0000\u0000scalerq\u0007csklearn.preprocessing._data\r\n",
      "StandardScaler\r\n",
      "q\b)�q\t}q\r\n",
      "(X\t\u0000\u0000\u0000with_meanq\u000b",
      "�X\b\u0000\u0000\u0000with_stdq\f",
      "�X\u0004\u0000\u0000\u0000copyq\r",
      "�X\u000e\u0000\u0000\u0000n_features_i"
     ]
    }
   ],
   "source": [
    "! head -c 200 $pickle_file"
   ]
  },
  {
   "cell_type": "code",
   "execution_count": 11,
   "metadata": {},
   "outputs": [
    {
     "name": "stdout",
     "output_type": "stream",
     "text": [
      "dict_keys(['model', 'X_train', 'y_train', 'X_test', 'y_test'])\n"
     ]
    }
   ],
   "source": [
    "with open(pickle_file, 'rb') as f:\n",
    "    m_pickle = pickle.load(f)\n",
    "print(m_pickle.keys())"
   ]
  },
  {
   "cell_type": "markdown",
   "metadata": {},
   "source": [
    "This is super convenient because the model is immediately usable!"
   ]
  },
  {
   "cell_type": "code",
   "execution_count": 12,
   "metadata": {},
   "outputs": [
    {
     "data": {
      "text/plain": [
       "0.88"
      ]
     },
     "execution_count": 12,
     "metadata": {},
     "output_type": "execute_result"
    }
   ],
   "source": [
    "m_pickle['model'].score(m_pickle['X_test'], m_pickle['y_test'])"
   ]
  },
  {
   "cell_type": "markdown",
   "metadata": {},
   "source": [
    "### Joblib\n",
    "\n",
    "Joblib is more efficient for objects with large arrays. Behind the scenes this uses a library called `dill` that is adds some features to `pickle`."
   ]
  },
  {
   "cell_type": "code",
   "execution_count": 13,
   "metadata": {},
   "outputs": [],
   "source": [
    "import joblib"
   ]
  },
  {
   "cell_type": "code",
   "execution_count": 14,
   "metadata": {},
   "outputs": [
    {
     "data": {
      "text/plain": [
       "['my_pipeline_0.0.1_2021-09-13T22:15:36.559653+00:00.joblib']"
      ]
     },
     "execution_count": 14,
     "metadata": {},
     "output_type": "execute_result"
    }
   ],
   "source": [
    "joblib_file = f'{filename_base}.joblib'\n",
    "joblib.dump(python_model, joblib_file)"
   ]
  },
  {
   "cell_type": "code",
   "execution_count": 15,
   "metadata": {},
   "outputs": [
    {
     "name": "stdout",
     "output_type": "stream",
     "text": [
      "�\u0003}q\u0000(X\u0005\u0000\u0000\u0000modelq\u0001csklearn.pipeline\r\n",
      "Pipeline\r\n",
      "q\u0002)�q\u0003}q\u0004(X\u0005\u0000\u0000\u0000stepsq\u0005]q\u0006(X\u0006\u0000\u0000\u0000scalerq\u0007csklearn.preprocessing._data\r\n",
      "StandardScaler\r\n",
      "q\b)�q\t}q\r\n",
      "(X\t\u0000\u0000\u0000with_meanq\u000b",
      "�X\b\u0000\u0000\u0000with_stdq\f",
      "�X\u0004\u0000\u0000\u0000copyq\r",
      "�X\u000e\u0000\u0000\u0000n_features_i"
     ]
    }
   ],
   "source": [
    "! head -c 200 $joblib_file"
   ]
  },
  {
   "cell_type": "code",
   "execution_count": 16,
   "metadata": {},
   "outputs": [],
   "source": [
    "m_joblib = joblib.load(joblib_file)"
   ]
  },
  {
   "cell_type": "code",
   "execution_count": 17,
   "metadata": {},
   "outputs": [
    {
     "data": {
      "text/plain": [
       "0.88"
      ]
     },
     "execution_count": 17,
     "metadata": {},
     "output_type": "execute_result"
    }
   ],
   "source": [
    "m_joblib['model'].score(m_joblib['X_test'], m_joblib['y_test'])"
   ]
  },
  {
   "cell_type": "markdown",
   "metadata": {},
   "source": [
    "## Portable data formats"
   ]
  },
  {
   "cell_type": "markdown",
   "metadata": {},
   "source": [
    "Here we generally cannot automatically store Python objects, so we create a generic data structure to store. Serialization using these non-native formats usually takes more work. \n",
    "\n",
    "**Note**. Some Python libraries such as `pyyaml` provide mechanisms for directly storing and recreating objects like `pickle` and `joblib` - not covered in lecture notes."
   ]
  },
  {
   "cell_type": "code",
   "execution_count": 18,
   "metadata": {},
   "outputs": [],
   "source": [
    "generic_model = {\n",
    "    'name': pipe.name,\n",
    "    'params': pipe.get_params(),\n",
    "    'X_train': X_train,\n",
    "    'y_train': y_train,\n",
    "    'X_test': X_test,\n",
    "    'y_test': y_test\n",
    "}"
   ]
  },
  {
   "cell_type": "markdown",
   "metadata": {},
   "source": [
    "### CSV\n",
    "\n",
    "CSV cannot handle non-tabular data structures, so we would have to do something like store 5 different files:\n",
    "\n",
    "- model key, value pairs (one per line)\n",
    "- X\\_train\n",
    "- X\\_test\n",
    "- y\\_train\n",
    "- y\\_test"
   ]
  },
  {
   "cell_type": "code",
   "execution_count": 19,
   "metadata": {},
   "outputs": [],
   "source": [
    "import csv\n",
    "\n",
    "csv_file = f'{pipe.name}_{pendulum.now()}.csv'\n",
    "with open(csv_file, 'w') as f:\n",
    "    writer = csv.writer(f, delimiter=',', quotechar='\"')\n",
    "    writer.writerow(['name', pipe.name])\n",
    "    for k, v in pipe.get_params().items():\n",
    "        writer.writerow([k, v])"
   ]
  },
  {
   "cell_type": "code",
   "execution_count": 20,
   "metadata": {},
   "outputs": [
    {
     "name": "stdout",
     "output_type": "stream",
     "text": [
      "name,my_pipeline_0.0.1\r",
      "\r\n",
      "memory,\r",
      "\r\n",
      "steps,\"[('scaler', StandardScaler()), ('svc', SVC())]\"\r",
      "\r\n",
      "verbose,False\r",
      "\r\n",
      "scaler,StandardScaler()\r",
      "\r\n",
      "svc,SVC()\r",
      "\r\n",
      "scaler__copy,True\r",
      "\r\n",
      "scaler__with_mean,True\r",
      "\r\n",
      "scaler__with_std,"
     ]
    }
   ],
   "source": [
    "! head -c 200 $csv_file"
   ]
  },
  {
   "cell_type": "markdown",
   "metadata": {},
   "source": [
    "Reading back using the CSV module solves the commas embedded in qutotes problem."
   ]
  },
  {
   "cell_type": "code",
   "execution_count": 21,
   "metadata": {},
   "outputs": [
    {
     "name": "stdout",
     "output_type": "stream",
     "text": [
      "['name', 'my_pipeline_0.0.1']\n",
      "['memory', '']\n",
      "['steps', \"[('scaler', StandardScaler()), ('svc', SVC())]\"]\n"
     ]
    }
   ],
   "source": [
    "with open(csv_file, 'r') as f:\n",
    "    reader = csv.reader(f, delimiter=',', quotechar='\"')\n",
    "    for i, row in enumerate(reader):\n",
    "        print(row)\n",
    "        if i >= 2:\n",
    "            break"
   ]
  },
  {
   "cell_type": "markdown",
   "metadata": {},
   "source": [
    "We can write the numpy arrays to CSV in the same way, but it's easier to do so directly in Python."
   ]
  },
  {
   "cell_type": "code",
   "execution_count": 22,
   "metadata": {},
   "outputs": [],
   "source": [
    "import numpy as np"
   ]
  },
  {
   "cell_type": "code",
   "execution_count": 23,
   "metadata": {},
   "outputs": [],
   "source": [
    "X_train_filename = f'X_train_{filename_base}'\n",
    "np.savetxt(X_train_filename, X_train, delimiter=',')"
   ]
  },
  {
   "cell_type": "code",
   "execution_count": 24,
   "metadata": {},
   "outputs": [
    {
     "name": "stdout",
     "output_type": "stream",
     "text": [
      "-6.524085823870200418e-01,4.937417773491884487e-01,1.301846229564998403e+00,-1.285328829789109673e+00,-1.944737744352711406e+00,2.064492861359319420e+00,-2.030684467781494362e+00,1.020172711715799707e"
     ]
    }
   ],
   "source": [
    "! head -c 200 $X_train_filename"
   ]
  },
  {
   "cell_type": "markdown",
   "metadata": {},
   "source": [
    "Reading back into `numpy` is also straightforward."
   ]
  },
  {
   "cell_type": "code",
   "execution_count": 25,
   "metadata": {},
   "outputs": [
    {
     "data": {
      "text/plain": [
       "(75, 20)"
      ]
     },
     "execution_count": 25,
     "metadata": {},
     "output_type": "execute_result"
    }
   ],
   "source": [
    "np.loadtxt(X_train_filename, delimiter=',').shape"
   ]
  },
  {
   "cell_type": "markdown",
   "metadata": {},
   "source": [
    "### JSON\n",
    "\n",
    "JSON is ubiquitous as a data format, and is native to the REST API. Generally, JSON only understands basic data types - string, numbers, ,object (this is like a Python dictionary), array (this is like a Python list), boolean and null - so is inefficient for transferring large binary objects such as `numpy` arrays."
   ]
  },
  {
   "cell_type": "code",
   "execution_count": 26,
   "metadata": {},
   "outputs": [],
   "source": [
    "import json\n",
    "import numpy as np"
   ]
  },
  {
   "cell_type": "markdown",
   "metadata": {},
   "source": [
    "Unfortunately, the `get_params` method returns values that are Python objects suhc as `StandardScaler()` that cannot be directly serialized to JSON."
   ]
  },
  {
   "cell_type": "code",
   "execution_count": 27,
   "metadata": {},
   "outputs": [
    {
     "name": "stdout",
     "output_type": "stream",
     "text": [
      "Object of type StandardScaler is not JSON serializable\n"
     ]
    }
   ],
   "source": [
    "json_file = f'{filename_base}.json'\n",
    "\n",
    "with open(json_file, 'w') as f:\n",
    "    try:\n",
    "        json.dump(generic_model, f)\n",
    "    except TypeError as e:\n",
    "        print(e)"
   ]
  },
  {
   "cell_type": "markdown",
   "metadata": {},
   "source": [
    "We need to convert to strings first."
   ]
  },
  {
   "cell_type": "code",
   "execution_count": 28,
   "metadata": {},
   "outputs": [],
   "source": [
    "def serialize(m):\n",
    "    \"\"\"Serialize all objects to their string represntation.\"\"\"\n",
    "    d = {}\n",
    "    for k, v in m.items():\n",
    "        if type(v) is np.ndarray:\n",
    "            d[k] = v.tolist()\n",
    "        else:\n",
    "            d[k] = str(v)\n",
    "    return d"
   ]
  },
  {
   "cell_type": "code",
   "execution_count": 29,
   "metadata": {},
   "outputs": [],
   "source": [
    "with open(json_file, 'w') as f:\n",
    "    json.dump(serialize(generic_model), f)"
   ]
  },
  {
   "cell_type": "code",
   "execution_count": 30,
   "metadata": {},
   "outputs": [
    {
     "name": "stdout",
     "output_type": "stream",
     "text": [
      "{\"name\": \"my_pipeline_0.0.1\", \"params\": \"{'memory': None, 'steps': [('scaler', StandardScaler()), ('svc', SVC())], 'verbose': False, 'scaler': StandardScaler(), 'svc': SVC(), 'scaler__copy': True, 'sc"
     ]
    }
   ],
   "source": [
    "! head -c 200 $json_file"
   ]
  },
  {
   "cell_type": "markdown",
   "metadata": {},
   "source": [
    "The price is that now, everything is a string and you need to do the reconstruction.\n",
    "\n",
    "See [docs](https://stackabuse.com/scikit-learn-save-and-restore-models/) for how to restore `scikit-learn` models."
   ]
  },
  {
   "cell_type": "markdown",
   "metadata": {},
   "source": [
    "It is simple to restore `numpy` arrays."
   ]
  },
  {
   "cell_type": "code",
   "execution_count": 31,
   "metadata": {},
   "outputs": [],
   "source": [
    "with open(json_file, 'r') as f:\n",
    "    m_json = json.load(f)"
   ]
  },
  {
   "cell_type": "code",
   "execution_count": 32,
   "metadata": {},
   "outputs": [],
   "source": [
    "X_test_json = np.asarray(m_json['X_test'])"
   ]
  },
  {
   "cell_type": "markdown",
   "metadata": {},
   "source": [
    "## YAML\n",
    "\n",
    "- YAML Ain't Markup Language\n",
    "- YAML is often used for configuration - for example, in `docker-compose` to specify containers\n",
    "\n",
    "YAML is a superset of JSON, so anything that can be serialized as JSON will work. However YAML is more flexible. See YAML [docs](https://yaml.org/spec/1.2/spec.html) for more information - especially how to use YAML aliases and references."
   ]
  },
  {
   "cell_type": "code",
   "execution_count": 33,
   "metadata": {},
   "outputs": [],
   "source": [
    "import yaml"
   ]
  },
  {
   "cell_type": "code",
   "execution_count": 34,
   "metadata": {},
   "outputs": [],
   "source": [
    "yaml_file = f'{filename_base}.yaml'\n",
    "\n",
    "with open(yaml_file, 'w') as f:\n",
    "    yaml.safe_dump(serialize(generic_model), f)"
   ]
  },
  {
   "cell_type": "code",
   "execution_count": 35,
   "metadata": {},
   "outputs": [
    {
     "name": "stdout",
     "output_type": "stream",
     "text": [
      "X_test:\r\n",
      "- - -0.16137353627777917\r\n",
      "  - 0.0275097020298358\r\n",
      "  - -0.5110404635801098\r\n",
      "  - 0.8566996977399313\r\n",
      "  - 0.1140320833086349\r\n",
      "  - 1.3674149824601585\r\n",
      "  - -0.10497970101895356\r\n",
      "  - 0.15364446081566638\r\n",
      "  "
     ]
    }
   ],
   "source": [
    "! head -c 200 $yaml_file"
   ]
  },
  {
   "cell_type": "code",
   "execution_count": 36,
   "metadata": {},
   "outputs": [],
   "source": [
    "with open(yaml_file, 'r') as f:\n",
    "    m_yaml = yaml.safe_load(f)"
   ]
  },
  {
   "cell_type": "code",
   "execution_count": 37,
   "metadata": {},
   "outputs": [
    {
     "data": {
      "text/plain": [
       "dict_keys(['X_test', 'X_train', 'name', 'params', 'y_test', 'y_train'])"
      ]
     },
     "execution_count": 37,
     "metadata": {},
     "output_type": "execute_result"
    }
   ],
   "source": [
    "m_yaml.keys()"
   ]
  },
  {
   "cell_type": "markdown",
   "metadata": {},
   "source": [
    "### XML\n",
    "\n",
    "XML is a recursive data structure."
   ]
  },
  {
   "cell_type": "code",
   "execution_count": 38,
   "metadata": {},
   "outputs": [],
   "source": [
    "import xml.etree.ElementTree as ET"
   ]
  },
  {
   "cell_type": "markdown",
   "metadata": {},
   "source": [
    "XML is painful to create manually so I will convert from JSON instead."
   ]
  },
  {
   "cell_type": "code",
   "execution_count": 39,
   "metadata": {},
   "outputs": [],
   "source": [
    "! python3 -m pip install --quiet json2xml"
   ]
  },
  {
   "cell_type": "code",
   "execution_count": 40,
   "metadata": {},
   "outputs": [],
   "source": [
    "from json2xml import json2xml\n",
    "from json2xml.utils import readfromjson"
   ]
  },
  {
   "cell_type": "code",
   "execution_count": 41,
   "metadata": {},
   "outputs": [],
   "source": [
    "xml_file = f'{filename_base}.xml'\n",
    "\n",
    "data = readfromjson(json_file)\n",
    "xml = json2xml.Json2xml(data).to_xml()"
   ]
  },
  {
   "cell_type": "code",
   "execution_count": 42,
   "metadata": {},
   "outputs": [],
   "source": [
    "with open(xml_file, 'w') as f:\n",
    "    f.write(xml)"
   ]
  },
  {
   "cell_type": "code",
   "execution_count": 43,
   "metadata": {},
   "outputs": [
    {
     "name": "stdout",
     "output_type": "stream",
     "text": [
      "<?xml version=\"1.0\" ?>\r\n",
      "<all>\r\n",
      "\t<name type=\"str\">my_pipeline_0.0.1</name>\r\n",
      "\t<params type=\"str\">{'memory': None, 'steps': [('scaler', StandardScaler()), ('svc', SVC())], 'verbose': False, 'scaler': Standa"
     ]
    }
   ],
   "source": [
    "! head -c 200 $xml_file"
   ]
  },
  {
   "cell_type": "code",
   "execution_count": 44,
   "metadata": {},
   "outputs": [],
   "source": [
    "tree = ET.parse(xml_file)\n",
    "root = tree.getroot()"
   ]
  },
  {
   "cell_type": "code",
   "execution_count": 45,
   "metadata": {},
   "outputs": [
    {
     "name": "stdout",
     "output_type": "stream",
     "text": [
      "<Element 'name' at 0x7fce4f8e4950>\n",
      "<Element 'params' at 0x7fce4f8e49b0>\n",
      "<Element 'X_train' at 0x7fce4f8e4a10>\n",
      "<Element 'y_train' at 0x7fce4f492e90>\n",
      "<Element 'X_test' at 0x7fce4f4a0b90>\n",
      "<Element 'y_test' at 0x7fce4f482410>\n"
     ]
    }
   ],
   "source": [
    "for item in root:\n",
    "    print(item)"
   ]
  },
  {
   "cell_type": "markdown",
   "metadata": {},
   "source": [
    "Use [XPath](https://www.w3schools.com/xml/xpath_syntax.asp) notation to navigate the XML tree."
   ]
  },
  {
   "cell_type": "code",
   "execution_count": 46,
   "metadata": {},
   "outputs": [
    {
     "data": {
      "text/plain": [
       "('name', 'my_pipeline_0.0.1')"
      ]
     },
     "execution_count": 46,
     "metadata": {},
     "output_type": "execute_result"
    }
   ],
   "source": [
    "name = root.find('.//name')\n",
    "name.tag, name.text"
   ]
  },
  {
   "cell_type": "code",
   "execution_count": 47,
   "metadata": {},
   "outputs": [
    {
     "data": {
      "text/plain": [
       "2200"
      ]
     },
     "execution_count": 47,
     "metadata": {},
     "output_type": "execute_result"
    }
   ],
   "source": [
    "len(root.findall('.//item'))"
   ]
  },
  {
   "cell_type": "markdown",
   "metadata": {},
   "source": [
    "### HDF5\n",
    "\n",
    "HDF5 was designed to store large and heterogeneous data sets. It is ideal if you need to store lots of numerical data with annotation.\n",
    "\n",
    "There are two popular libraries in Python:\n",
    "\n",
    "- [h5py](https://docs.h5py.org/en/stable/)\n",
    "- [pytables](https://www.pytables.org)\n",
    "\n",
    "I find `h5py` to have a friendlier interface, but the implementation supported by `pandas` is `pytables`."
   ]
  },
  {
   "cell_type": "code",
   "execution_count": 48,
   "metadata": {},
   "outputs": [],
   "source": [
    "h5_file = f'{filename_base}.h5'"
   ]
  },
  {
   "cell_type": "code",
   "execution_count": 49,
   "metadata": {},
   "outputs": [],
   "source": [
    "import h5py"
   ]
  },
  {
   "cell_type": "code",
   "execution_count": 50,
   "metadata": {},
   "outputs": [],
   "source": [
    "with h5py.File(h5_file, 'w') as f:\n",
    "    g = f.create_group(pipe.name)\n",
    "    g.create_dataset(name='X_train', data=python_model['X_train'])\n",
    "    g.create_dataset(name='y_train', data=python_model['y_train'])\n",
    "    g.create_dataset(name='X_test', data=python_model['X_test'])\n",
    "    g.create_dataset(name='y_test', data=python_model['y_test'])\n",
    "    g.attrs['name'] = pipe.name\n",
    "    for k, v in pipe.get_params().items():\n",
    "        g.attrs[k] = str(v)"
   ]
  },
  {
   "cell_type": "code",
   "execution_count": 51,
   "metadata": {},
   "outputs": [
    {
     "name": "stdout",
     "output_type": "stream",
     "text": [
      "�HDF\r",
      "\r\n",
      "\u001a\r\n",
      "\u0000\u0000\u0000\u0000\u0000\b\b\u0000\u0004\u0000\u0010\u0000\u0000\u0000\u0000\u0000\u0000\u0000\u0000\u0000\u0000\u0000\u0000\u0000��������(f\u0000\u0000\u0000\u0000\u0000\u0000��������\u0000\u0000\u0000\u0000\u0000\u0000\u0000\u0000`\u0000\u0000\u0000\u0000\u0000\u0000\u0000\u0001\u0000\u0000\u0000\u0000\u0000\u0000\u0000�\u0000\u0000\u0000\u0000\u0000\u0000\u0000�\u0002\u0000\u0000\u0000\u0000\u0000\u0000\u0001\u0000\u0001\u0000\u0001\u0000\u0000\u0000\u0018\u0000\u0000\u0000\u0000\u0000\u0000\u0000\u0011\u0000\u0010\u0000\u0000\u0000\u0000\u0000�\u0000\u0000\u0000\u0000\u0000\u0000\u0000�\u0002\u0000\u0000\u0000\u0000\u0000\u0000TREE\u0000\u0000\u0001\u0000����������������\u0000\u0000\u0000\u0000\u0000\u0000\u0000\u0000�\u0005\u0000\u0000\u0000\u0000\u0000\u0000\b\u0000\u0000\u0000\u0000\u0000\u0000\u0000\u0000\u0000\u0000\u0000\u0000\u0000\u0000\u0000\u0000\u0000\u0000\u0000\u0000\u0000\u0000\u0000"
     ]
    }
   ],
   "source": [
    "! head -c 200 $h5_file"
   ]
  },
  {
   "cell_type": "code",
   "execution_count": 52,
   "metadata": {},
   "outputs": [
    {
     "name": "stdout",
     "output_type": "stream",
     "text": [
      "<HDF5 group \"/my_pipeline_0.0.1\" (4 members)>\n",
      "memory None\n",
      "name my_pipeline_0.0.1\n",
      "scaler StandardScaler()\n",
      "scaler__copy True\n",
      "scaler__with_mean True\n",
      "scaler__with_std True\n",
      "steps [('scaler', StandardScaler()), ('svc', SVC())]\n",
      "svc SVC()\n",
      "svc__C 1.0\n",
      "svc__break_ties False\n",
      "svc__cache_size 200\n",
      "svc__class_weight None\n",
      "svc__coef0 0.0\n",
      "svc__decision_function_shape ovr\n",
      "svc__degree 3\n",
      "svc__gamma scale\n",
      "svc__kernel rbf\n",
      "svc__max_iter -1\n",
      "svc__probability False\n",
      "svc__random_state None\n",
      "svc__shrinking True\n",
      "svc__tol 0.001\n",
      "svc__verbose False\n",
      "verbose False\n",
      "X_test <HDF5 dataset \"X_test\": shape (25, 20), type \"<f8\">\n",
      "X_train <HDF5 dataset \"X_train\": shape (75, 20), type \"<f8\">\n",
      "y_test <HDF5 dataset \"y_test\": shape (25,), type \"<i8\">\n",
      "y_train <HDF5 dataset \"y_train\": shape (75,), type \"<i8\">\n"
     ]
    }
   ],
   "source": [
    "with h5py.File(h5_file, 'r') as f:\n",
    "    for k in f:\n",
    "        g = f[k]\n",
    "        print(g)\n",
    "        for attr in g.attrs:\n",
    "            print(attr, g.attrs[attr])\n",
    "        for item in (g):\n",
    "            print(item, g[item])"
   ]
  },
  {
   "cell_type": "code",
   "execution_count": 53,
   "metadata": {},
   "outputs": [
    {
     "name": "stdout",
     "output_type": "stream",
     "text": [
      "[[-0.65240858  0.49374178  1.30184623 -1.28532883 -1.94473774]\n",
      " [ 0.35178011 -0.47003288 -0.37914756 -0.15902752 -2.23460699]]\n"
     ]
    }
   ],
   "source": [
    "with h5py.File(h5_file, 'r') as f:\n",
    "    xs = f['my_pipeline_0.0.1/X_train']\n",
    "    print(xs[:2, :5])"
   ]
  },
  {
   "cell_type": "markdown",
   "metadata": {},
   "source": [
    "### Google Protocol Buffer (protobuf)\n",
    "\n",
    "This is typically used to transmit data for ML prediction, especially for ML deployments on a cloud platform. It is a binary buffer, so much more efficient than JSON for large data sets.\n",
    "\n",
    "From the [official docs](https://developers.google.com/protocol-buffers/docs/pythontutorial), there are 3 steps:\n",
    "\n",
    "- Define message formats in a .proto file.\n",
    "- Use the protocol buffer compiler\n",
    "- Use the Python protocol buffer API to write and read messages\n",
    "\n",
    "You will rarely have to work with protocol buffers directly in practice, but under the hood, TensorFlow uses this serialization method in the SavedModel protocol buffer."
   ]
  },
  {
   "cell_type": "code",
   "execution_count": null,
   "metadata": {},
   "outputs": [],
   "source": []
  }
 ],
 "metadata": {
  "kernelspec": {
   "display_name": "Python 3",
   "language": "python",
   "name": "python3"
  },
  "language_info": {
   "codemirror_mode": {
    "name": "ipython",
    "version": 3
   },
   "file_extension": ".py",
   "mimetype": "text/x-python",
   "name": "python",
   "nbconvert_exporter": "python",
   "pygments_lexer": "ipython3",
   "version": "3.7.8"
  }
 },
 "nbformat": 4,
 "nbformat_minor": 4
}
