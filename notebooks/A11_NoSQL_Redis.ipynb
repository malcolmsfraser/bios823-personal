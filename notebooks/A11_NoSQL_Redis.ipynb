{
 "cells": [
  {
   "cell_type": "markdown",
   "metadata": {},
   "source": [
    "# Redis\n",
    "\n",
    "REmote DIctionary Service is a key-value database.\n",
    "\n",
    "- [Official docs](https://redis.io/documentation)\n",
    "- [Use cases](https://redislabs.com/solutions/use-cases/)\n",
    "- More about [redis-py](https://github.com/andymccurdy/redis-py)\n"
   ]
  },
  {
   "cell_type": "markdown",
   "metadata": {},
   "source": [
    "## Concepts\n",
    "\n",
    "Redis is a very simple database conceptually. From a programmer perspective, it's as if you can magically persist \n",
    "\n",
    "- simple values\n",
    "- dictionaries\n",
    "- sets\n",
    "- lists\n",
    "- priority queues\n",
    "\n",
    "so that they are usable from other programs, possibly residing in other computers. The API is simple to use. And it is an in-memory database, hence extremely fast.\n",
    "\n",
    "A few more concepts relevant for Redis\n",
    "\n",
    "- Transactions\n",
    "- Pipelines\n",
    "- Expiring values\n",
    "- Publish-subscribe model"
   ]
  },
  {
   "cell_type": "markdown",
   "metadata": {},
   "source": [
    "## Connect to database"
   ]
  },
  {
   "cell_type": "code",
   "execution_count": 1,
   "metadata": {},
   "outputs": [],
   "source": [
    "import redis"
   ]
  },
  {
   "cell_type": "markdown",
   "metadata": {},
   "source": [
    "#### Providing access information\n",
    "\n",
    "It is common to keep access configuration information to services such as a database or cloud platform in a local file - here we use YAML.\n",
    "\n",
    "**Note**: This file MUST be listed in `.gitignore` - otherwise anyone with access to your repository knows your password!"
   ]
  },
  {
   "cell_type": "code",
   "execution_count": 2,
   "metadata": {},
   "outputs": [
    {
     "name": "stdout",
     "output_type": "stream",
     "text": [
      "Writing redis_auth_config.yaml\n"
     ]
    }
   ],
   "source": [
    "%%file redis_auth_config.yaml\n",
    "# This would normally live on disk and not be in a notebook!\n",
    "\n",
    "host: 'localhost'\n",
    "port: 6379\n",
    "password: "
   ]
  },
  {
   "cell_type": "code",
   "execution_count": 3,
   "metadata": {},
   "outputs": [
    {
     "data": {
      "text/plain": [
       "{'host': 'localhost', 'port': 6379, 'password': None}"
      ]
     },
     "execution_count": 3,
     "metadata": {},
     "output_type": "execute_result"
    }
   ],
   "source": [
    "import yaml\n",
    "\n",
    "with open('redis_auth_config.yaml') as f:\n",
    "    auth = yaml.load(f, Loader=yaml.FullLoader)\n",
    "auth"
   ]
  },
  {
   "cell_type": "code",
   "execution_count": 4,
   "metadata": {},
   "outputs": [],
   "source": [
    "r = redis.Redis(\n",
    "    host = auth['host'],\n",
    "    port = auth['port'],\n",
    "    password = auth['password']\n",
    ")"
   ]
  },
  {
   "cell_type": "raw",
   "metadata": {},
   "source": [
    "redis-server"
   ]
  },
  {
   "cell_type": "code",
   "execution_count": 6,
   "metadata": {},
   "outputs": [
    {
     "data": {
      "text/plain": [
       "True"
      ]
     },
     "execution_count": 6,
     "metadata": {},
     "output_type": "execute_result"
    }
   ],
   "source": [
    "r.ping()"
   ]
  },
  {
   "cell_type": "markdown",
   "metadata": {},
   "source": [
    "## Clear database"
   ]
  },
  {
   "cell_type": "code",
   "execution_count": 7,
   "metadata": {},
   "outputs": [
    {
     "data": {
      "text/plain": [
       "True"
      ]
     },
     "execution_count": 7,
     "metadata": {},
     "output_type": "execute_result"
    }
   ],
   "source": [
    "r.flushdb()"
   ]
  },
  {
   "cell_type": "markdown",
   "metadata": {},
   "source": [
    "## Simple data types"
   ]
  },
  {
   "cell_type": "markdown",
   "metadata": {},
   "source": [
    "#### Set and get a single value"
   ]
  },
  {
   "cell_type": "code",
   "execution_count": 8,
   "metadata": {},
   "outputs": [
    {
     "data": {
      "text/plain": [
       "True"
      ]
     },
     "execution_count": 8,
     "metadata": {},
     "output_type": "execute_result"
    }
   ],
   "source": [
    "r.set('a', 'adenosine')"
   ]
  },
  {
   "cell_type": "code",
   "execution_count": 9,
   "metadata": {},
   "outputs": [
    {
     "data": {
      "text/plain": [
       "b'adenosine'"
      ]
     },
     "execution_count": 9,
     "metadata": {},
     "output_type": "execute_result"
    }
   ],
   "source": [
    "r.get('a')"
   ]
  },
  {
   "cell_type": "markdown",
   "metadata": {},
   "source": [
    "#### Set and get multiple values"
   ]
  },
  {
   "cell_type": "code",
   "execution_count": 10,
   "metadata": {},
   "outputs": [
    {
     "data": {
      "text/plain": [
       "True"
      ]
     },
     "execution_count": 10,
     "metadata": {},
     "output_type": "execute_result"
    }
   ],
   "source": [
    "r.mset(dict(c='cytosine', t='thymidine', g='guanosine'))"
   ]
  },
  {
   "cell_type": "code",
   "execution_count": 11,
   "metadata": {},
   "outputs": [
    {
     "data": {
      "text/plain": [
       "[b'thymidine', b'cytosine', b'guanosine', b'adenosine']"
      ]
     },
     "execution_count": 11,
     "metadata": {},
     "output_type": "execute_result"
    }
   ],
   "source": [
    "r.mget(list('tcga'))"
   ]
  },
  {
   "cell_type": "markdown",
   "metadata": {},
   "source": [
    "#### Deletion"
   ]
  },
  {
   "cell_type": "code",
   "execution_count": 12,
   "metadata": {},
   "outputs": [
    {
     "data": {
      "text/plain": [
       "1"
      ]
     },
     "execution_count": 12,
     "metadata": {},
     "output_type": "execute_result"
    }
   ],
   "source": [
    "r.delete('a')"
   ]
  },
  {
   "cell_type": "code",
   "execution_count": 13,
   "metadata": {},
   "outputs": [
    {
     "data": {
      "text/plain": [
       "[b't', b'g', b'c']"
      ]
     },
     "execution_count": 13,
     "metadata": {},
     "output_type": "execute_result"
    }
   ],
   "source": [
    "r.keys()"
   ]
  },
  {
   "cell_type": "code",
   "execution_count": 14,
   "metadata": {},
   "outputs": [
    {
     "data": {
      "text/plain": [
       "3"
      ]
     },
     "execution_count": 14,
     "metadata": {},
     "output_type": "execute_result"
    }
   ],
   "source": [
    "r.delete('c', 't', 'g')"
   ]
  },
  {
   "cell_type": "code",
   "execution_count": 15,
   "metadata": {},
   "outputs": [
    {
     "data": {
      "text/plain": [
       "[]"
      ]
     },
     "execution_count": 15,
     "metadata": {},
     "output_type": "execute_result"
    }
   ],
   "source": [
    "r.keys()"
   ]
  },
  {
   "cell_type": "markdown",
   "metadata": {},
   "source": [
    "### Transactions\n",
    "\n",
    "Transactions are achieved by creating and executing pipeline. This is useful not just for atomicity, but also to reduce communication costs."
   ]
  },
  {
   "cell_type": "code",
   "execution_count": 16,
   "metadata": {},
   "outputs": [
    {
     "data": {
      "text/plain": [
       "[True, 1, 2, 3]"
      ]
     },
     "execution_count": 16,
     "metadata": {},
     "output_type": "execute_result"
    }
   ],
   "source": [
    "pipe = r.pipeline()\n",
    "(\n",
    "pipe.set('a', 0).\n",
    "    incr('a').\n",
    "    incr('a').\n",
    "    incr('a').\n",
    "    execute()\n",
    ")"
   ]
  },
  {
   "cell_type": "code",
   "execution_count": 17,
   "metadata": {},
   "outputs": [
    {
     "data": {
      "text/plain": [
       "b'3'"
      ]
     },
     "execution_count": 17,
     "metadata": {},
     "output_type": "execute_result"
    }
   ],
   "source": [
    "r.get('a')"
   ]
  },
  {
   "cell_type": "markdown",
   "metadata": {},
   "source": [
    "### Expiring values\n",
    "\n",
    "You can also find the time to expiry with `ttl` (time-to-live) and convert from volatile to permanent with `persist`"
   ]
  },
  {
   "cell_type": "code",
   "execution_count": 18,
   "metadata": {},
   "outputs": [],
   "source": [
    "import time"
   ]
  },
  {
   "cell_type": "code",
   "execution_count": 19,
   "metadata": {},
   "outputs": [
    {
     "name": "stdout",
     "output_type": "stream",
     "text": [
      "get b'bar'\n",
      "ttl 2\n",
      "ttl 1\n",
      "ttl -2\n",
      "get None\n"
     ]
    }
   ],
   "source": [
    "r.setex('foo', 3, 'bar')\n",
    "print('get', r.get('foo'))\n",
    "time.sleep(1)\n",
    "print('ttl', r.ttl('foo'))\n",
    "time.sleep(1)\n",
    "print('ttl', r.ttl('foo'))\n",
    "time.sleep(1)\n",
    "print('ttl', r.ttl('foo'))\n",
    "time.sleep(1)\n",
    "print('get', r.get('foo'))"
   ]
  },
  {
   "cell_type": "markdown",
   "metadata": {},
   "source": [
    "#### Alternative"
   ]
  },
  {
   "cell_type": "code",
   "execution_count": 20,
   "metadata": {},
   "outputs": [
    {
     "name": "stdout",
     "output_type": "stream",
     "text": [
      "b'bar'\n",
      "None\n"
     ]
    }
   ],
   "source": [
    "r.set('foo', 'bar')\n",
    "r.expire('foo', 3)\n",
    "print(r.get('foo'))\n",
    "time.sleep(3)\n",
    "print(r.get('foo'))"
   ]
  },
  {
   "cell_type": "markdown",
   "metadata": {},
   "source": [
    "## Complex data types"
   ]
  },
  {
   "cell_type": "code",
   "execution_count": 21,
   "metadata": {},
   "outputs": [],
   "source": [
    "import warnings\n",
    "\n",
    "warnings.simplefilter('ignore', DeprecationWarning)"
   ]
  },
  {
   "cell_type": "markdown",
   "metadata": {},
   "source": [
    "### Hash"
   ]
  },
  {
   "cell_type": "code",
   "execution_count": 22,
   "metadata": {},
   "outputs": [
    {
     "data": {
      "text/plain": [
       "True"
      ]
     },
     "execution_count": 22,
     "metadata": {},
     "output_type": "execute_result"
    }
   ],
   "source": [
    "r.hmset('nuc', dict(a='adenosine', c='cytosine', t='thymidine', g='guanosine'))"
   ]
  },
  {
   "cell_type": "code",
   "execution_count": 23,
   "metadata": {},
   "outputs": [
    {
     "data": {
      "text/plain": [
       "b'adenosine'"
      ]
     },
     "execution_count": 23,
     "metadata": {},
     "output_type": "execute_result"
    }
   ],
   "source": [
    "r.hget('nuc', 'a')"
   ]
  },
  {
   "cell_type": "code",
   "execution_count": 24,
   "metadata": {},
   "outputs": [
    {
     "data": {
      "text/plain": [
       "[b'cytosine', b'thymidine', b'guanosine']"
      ]
     },
     "execution_count": 24,
     "metadata": {},
     "output_type": "execute_result"
    }
   ],
   "source": [
    "r.hmget('nuc', list('ctg'))"
   ]
  },
  {
   "cell_type": "code",
   "execution_count": 25,
   "metadata": {},
   "outputs": [
    {
     "data": {
      "text/plain": [
       "[b'a', b'c', b't', b'g']"
      ]
     },
     "execution_count": 25,
     "metadata": {},
     "output_type": "execute_result"
    }
   ],
   "source": [
    "r.hkeys('nuc')"
   ]
  },
  {
   "cell_type": "code",
   "execution_count": 26,
   "metadata": {},
   "outputs": [
    {
     "data": {
      "text/plain": [
       "[b'adenosine', b'cytosine', b'thymidine', b'guanosine']"
      ]
     },
     "execution_count": 26,
     "metadata": {},
     "output_type": "execute_result"
    }
   ],
   "source": [
    "r.hvals('nuc')"
   ]
  },
  {
   "cell_type": "markdown",
   "metadata": {},
   "source": [
    "### List"
   ]
  },
  {
   "cell_type": "code",
   "execution_count": 27,
   "metadata": {},
   "outputs": [
    {
     "data": {
      "text/plain": [
       "3"
      ]
     },
     "execution_count": 27,
     "metadata": {},
     "output_type": "execute_result"
    }
   ],
   "source": [
    "r.rpush('xs', 1, 2, 3)"
   ]
  },
  {
   "cell_type": "code",
   "execution_count": 28,
   "metadata": {},
   "outputs": [
    {
     "data": {
      "text/plain": [
       "6"
      ]
     },
     "execution_count": 28,
     "metadata": {},
     "output_type": "execute_result"
    }
   ],
   "source": [
    "r.lpush('xs', 4, 5, 6)"
   ]
  },
  {
   "cell_type": "code",
   "execution_count": 29,
   "metadata": {},
   "outputs": [
    {
     "data": {
      "text/plain": [
       "6"
      ]
     },
     "execution_count": 29,
     "metadata": {},
     "output_type": "execute_result"
    }
   ],
   "source": [
    "r.llen('xs')"
   ]
  },
  {
   "cell_type": "code",
   "execution_count": 30,
   "metadata": {},
   "outputs": [
    {
     "data": {
      "text/plain": [
       "[b'6', b'5', b'4', b'1', b'2', b'3']"
      ]
     },
     "execution_count": 30,
     "metadata": {},
     "output_type": "execute_result"
    }
   ],
   "source": [
    "r.lrange('xs', 0, r.llen('xs'))"
   ]
  },
  {
   "cell_type": "code",
   "execution_count": 31,
   "metadata": {},
   "outputs": [
    {
     "data": {
      "text/plain": [
       "[b'6', b'5', b'4', b'1', b'2', b'3']"
      ]
     },
     "execution_count": 31,
     "metadata": {},
     "output_type": "execute_result"
    }
   ],
   "source": [
    "r.lrange('xs', 0, -1)"
   ]
  },
  {
   "cell_type": "markdown",
   "metadata": {},
   "source": [
    "#### Using list as a queue"
   ]
  },
  {
   "cell_type": "code",
   "execution_count": 32,
   "metadata": {},
   "outputs": [
    {
     "data": {
      "text/plain": [
       "3"
      ]
     },
     "execution_count": 32,
     "metadata": {},
     "output_type": "execute_result"
    }
   ],
   "source": [
    "r.lpush('q', 1, 2, 3)"
   ]
  },
  {
   "cell_type": "code",
   "execution_count": 33,
   "metadata": {},
   "outputs": [
    {
     "name": "stdout",
     "output_type": "stream",
     "text": [
      "b'1'\n",
      "b'2'\n",
      "b'3'\n"
     ]
    }
   ],
   "source": [
    "while r.llen('q'):\n",
    "    print(r.rpop('q'))"
   ]
  },
  {
   "cell_type": "markdown",
   "metadata": {},
   "source": [
    "#### Using list as stack"
   ]
  },
  {
   "cell_type": "code",
   "execution_count": 34,
   "metadata": {},
   "outputs": [
    {
     "data": {
      "text/plain": [
       "3"
      ]
     },
     "execution_count": 34,
     "metadata": {},
     "output_type": "execute_result"
    }
   ],
   "source": [
    "r.lpush('q', 1, 2, 3)"
   ]
  },
  {
   "cell_type": "code",
   "execution_count": 35,
   "metadata": {},
   "outputs": [
    {
     "name": "stdout",
     "output_type": "stream",
     "text": [
      "b'3'\n",
      "b'2'\n",
      "b'1'\n"
     ]
    }
   ],
   "source": [
    "while r.llen('q'):\n",
    "    print(r.lpop('q'))"
   ]
  },
  {
   "cell_type": "markdown",
   "metadata": {},
   "source": [
    "#### Transferring values across lists"
   ]
  },
  {
   "cell_type": "code",
   "execution_count": 36,
   "metadata": {},
   "outputs": [
    {
     "data": {
      "text/plain": [
       "3"
      ]
     },
     "execution_count": 36,
     "metadata": {},
     "output_type": "execute_result"
    }
   ],
   "source": [
    "r.lpush('l1', 1,2,3)"
   ]
  },
  {
   "cell_type": "code",
   "execution_count": 37,
   "metadata": {},
   "outputs": [
    {
     "data": {
      "text/plain": [
       "(0, 3)"
      ]
     },
     "execution_count": 37,
     "metadata": {},
     "output_type": "execute_result"
    }
   ],
   "source": [
    "while r.llen('l1'):\n",
    "    r.rpoplpush('l1', 'l2')\n",
    "r.llen('l1'), r.llen('l2')"
   ]
  },
  {
   "cell_type": "code",
   "execution_count": 38,
   "metadata": {},
   "outputs": [
    {
     "name": "stdout",
     "output_type": "stream",
     "text": [
      "b'l2'\n"
     ]
    }
   ],
   "source": [
    "for key in r.scan_iter('l2'):\n",
    "    print(key)"
   ]
  },
  {
   "cell_type": "code",
   "execution_count": 39,
   "metadata": {},
   "outputs": [
    {
     "data": {
      "text/plain": [
       "3"
      ]
     },
     "execution_count": 39,
     "metadata": {},
     "output_type": "execute_result"
    }
   ],
   "source": [
    "r.lpush('l1', 1,2,3)"
   ]
  },
  {
   "cell_type": "markdown",
   "metadata": {},
   "source": [
    "### Sets"
   ]
  },
  {
   "cell_type": "code",
   "execution_count": 40,
   "metadata": {},
   "outputs": [
    {
     "data": {
      "text/plain": [
       "3"
      ]
     },
     "execution_count": 40,
     "metadata": {},
     "output_type": "execute_result"
    }
   ],
   "source": [
    "r.sadd('s1', 1,2,3)"
   ]
  },
  {
   "cell_type": "code",
   "execution_count": 41,
   "metadata": {},
   "outputs": [
    {
     "data": {
      "text/plain": [
       "1"
      ]
     },
     "execution_count": 41,
     "metadata": {},
     "output_type": "execute_result"
    }
   ],
   "source": [
    "r.sadd('s1', 2,3,4)"
   ]
  },
  {
   "cell_type": "code",
   "execution_count": 42,
   "metadata": {},
   "outputs": [
    {
     "data": {
      "text/plain": [
       "{b'1', b'2', b'3', b'4'}"
      ]
     },
     "execution_count": 42,
     "metadata": {},
     "output_type": "execute_result"
    }
   ],
   "source": [
    "r.smembers('s1')"
   ]
  },
  {
   "cell_type": "code",
   "execution_count": 43,
   "metadata": {},
   "outputs": [
    {
     "data": {
      "text/plain": [
       "3"
      ]
     },
     "execution_count": 43,
     "metadata": {},
     "output_type": "execute_result"
    }
   ],
   "source": [
    "r.sadd('s2', 4,5,6)"
   ]
  },
  {
   "cell_type": "code",
   "execution_count": 44,
   "metadata": {},
   "outputs": [
    {
     "data": {
      "text/plain": [
       "{b'1', b'2', b'3'}"
      ]
     },
     "execution_count": 44,
     "metadata": {},
     "output_type": "execute_result"
    }
   ],
   "source": [
    "r.sdiff(['s1', 's2'])"
   ]
  },
  {
   "cell_type": "code",
   "execution_count": 45,
   "metadata": {},
   "outputs": [
    {
     "data": {
      "text/plain": [
       "{b'4'}"
      ]
     },
     "execution_count": 45,
     "metadata": {},
     "output_type": "execute_result"
    }
   ],
   "source": [
    "r.sinter(['s1', 's2'])"
   ]
  },
  {
   "cell_type": "code",
   "execution_count": 46,
   "metadata": {},
   "outputs": [
    {
     "data": {
      "text/plain": [
       "{b'1', b'2', b'3', b'4', b'5', b'6'}"
      ]
     },
     "execution_count": 46,
     "metadata": {},
     "output_type": "execute_result"
    }
   ],
   "source": [
    "r.sunion(['s1', 's2'])"
   ]
  },
  {
   "cell_type": "markdown",
   "metadata": {},
   "source": [
    "### Sorted sets\n",
    "\n",
    "This is equivalent to a priority queue."
   ]
  },
  {
   "cell_type": "code",
   "execution_count": 47,
   "metadata": {},
   "outputs": [
    {
     "data": {
      "text/plain": [
       "5"
      ]
     },
     "execution_count": 47,
     "metadata": {},
     "output_type": "execute_result"
    }
   ],
   "source": [
    "r.zadd('jobs', \n",
    "       dict(job1=3, \n",
    "            job2=7, \n",
    "            job3=1, \n",
    "            job4=2,\n",
    "            job5=6)\n",
    "      )"
   ]
  },
  {
   "cell_type": "code",
   "execution_count": 48,
   "metadata": {},
   "outputs": [
    {
     "data": {
      "text/plain": [
       "8.0"
      ]
     },
     "execution_count": 48,
     "metadata": {},
     "output_type": "execute_result"
    }
   ],
   "source": [
    "r.zincrby('jobs', 2, 'job5')"
   ]
  },
  {
   "cell_type": "code",
   "execution_count": 49,
   "metadata": {},
   "outputs": [
    {
     "data": {
      "text/plain": [
       "[(b'job3', 1.0),\n",
       " (b'job4', 2.0),\n",
       " (b'job1', 3.0),\n",
       " (b'job2', 7.0),\n",
       " (b'job5', 8.0)]"
      ]
     },
     "execution_count": 49,
     "metadata": {},
     "output_type": "execute_result"
    }
   ],
   "source": [
    "r.zrange('jobs', 0, -1, withscores=True)"
   ]
  },
  {
   "cell_type": "code",
   "execution_count": 50,
   "metadata": {},
   "outputs": [
    {
     "data": {
      "text/plain": [
       "[(b'job5', 8.0),\n",
       " (b'job2', 7.0),\n",
       " (b'job1', 3.0),\n",
       " (b'job4', 2.0),\n",
       " (b'job3', 1.0)]"
      ]
     },
     "execution_count": 50,
     "metadata": {},
     "output_type": "execute_result"
    }
   ],
   "source": [
    "r.zrevrange('jobs', 0, -1, withscores=True)"
   ]
  },
  {
   "cell_type": "markdown",
   "metadata": {},
   "source": [
    "#### Union and intersection store\n",
    "\n",
    "This just creates new sets from the union and intersection respectively."
   ]
  },
  {
   "cell_type": "code",
   "execution_count": 51,
   "metadata": {},
   "outputs": [],
   "source": [
    "s1 = 'time flies like an arrow'\n",
    "s2 = 'fruit flies like a banana'"
   ]
  },
  {
   "cell_type": "code",
   "execution_count": 52,
   "metadata": {},
   "outputs": [],
   "source": [
    "from collections import Counter"
   ]
  },
  {
   "cell_type": "code",
   "execution_count": 53,
   "metadata": {},
   "outputs": [],
   "source": [
    "c1 = Counter(s1.split())"
   ]
  },
  {
   "cell_type": "code",
   "execution_count": 54,
   "metadata": {},
   "outputs": [],
   "source": [
    "c2 = Counter(s2.split())"
   ]
  },
  {
   "cell_type": "code",
   "execution_count": 55,
   "metadata": {},
   "outputs": [
    {
     "data": {
      "text/plain": [
       "5"
      ]
     },
     "execution_count": 55,
     "metadata": {},
     "output_type": "execute_result"
    }
   ],
   "source": [
    "r.zadd('c1', c1)"
   ]
  },
  {
   "cell_type": "code",
   "execution_count": 56,
   "metadata": {},
   "outputs": [
    {
     "data": {
      "text/plain": [
       "5"
      ]
     },
     "execution_count": 56,
     "metadata": {},
     "output_type": "execute_result"
    }
   ],
   "source": [
    "r.zadd('c2', c2)"
   ]
  },
  {
   "cell_type": "code",
   "execution_count": 57,
   "metadata": {},
   "outputs": [
    {
     "data": {
      "text/plain": [
       "[(b'an', 1.0),\n",
       " (b'arrow', 1.0),\n",
       " (b'flies', 1.0),\n",
       " (b'like', 1.0),\n",
       " (b'time', 1.0)]"
      ]
     },
     "execution_count": 57,
     "metadata": {},
     "output_type": "execute_result"
    }
   ],
   "source": [
    "r.zrange('c1', 0, -1, withscores=True)"
   ]
  },
  {
   "cell_type": "code",
   "execution_count": 58,
   "metadata": {},
   "outputs": [
    {
     "data": {
      "text/plain": [
       "[(b'a', 1.0),\n",
       " (b'banana', 1.0),\n",
       " (b'flies', 1.0),\n",
       " (b'fruit', 1.0),\n",
       " (b'like', 1.0)]"
      ]
     },
     "execution_count": 58,
     "metadata": {},
     "output_type": "execute_result"
    }
   ],
   "source": [
    "r.zrange('c2', 0, -1, withscores=True)"
   ]
  },
  {
   "cell_type": "code",
   "execution_count": 59,
   "metadata": {},
   "outputs": [
    {
     "data": {
      "text/plain": [
       "8"
      ]
     },
     "execution_count": 59,
     "metadata": {},
     "output_type": "execute_result"
    }
   ],
   "source": [
    "r.zunionstore('c3', ['c1', 'c2'])"
   ]
  },
  {
   "cell_type": "code",
   "execution_count": 60,
   "metadata": {},
   "outputs": [
    {
     "data": {
      "text/plain": [
       "[(b'a', 1.0),\n",
       " (b'an', 1.0),\n",
       " (b'arrow', 1.0),\n",
       " (b'banana', 1.0),\n",
       " (b'fruit', 1.0),\n",
       " (b'time', 1.0),\n",
       " (b'flies', 2.0),\n",
       " (b'like', 2.0)]"
      ]
     },
     "execution_count": 60,
     "metadata": {},
     "output_type": "execute_result"
    }
   ],
   "source": [
    "r.zrange('c3', 0, -1, withscores=True)"
   ]
  },
  {
   "cell_type": "code",
   "execution_count": 61,
   "metadata": {},
   "outputs": [
    {
     "data": {
      "text/plain": [
       "2"
      ]
     },
     "execution_count": 61,
     "metadata": {},
     "output_type": "execute_result"
    }
   ],
   "source": [
    "r.zinterstore('c4', ['c1', 'c2'])"
   ]
  },
  {
   "cell_type": "code",
   "execution_count": 62,
   "metadata": {},
   "outputs": [
    {
     "data": {
      "text/plain": [
       "[(b'flies', 2.0), (b'like', 2.0)]"
      ]
     },
     "execution_count": 62,
     "metadata": {},
     "output_type": "execute_result"
    }
   ],
   "source": [
    "r.zrange('c4', 0, -1, withscores=True)"
   ]
  },
  {
   "cell_type": "markdown",
   "metadata": {},
   "source": [
    "### Publisher/Subscriber\n",
    "\n",
    "![](https://making.pusher.com/images/2017-03-01-redis-pubsub-under-the-hood/clients.svg)\n",
    "\n",
    "Source: https://making.pusher.com/redis-pubsub-under-the-hood/"
   ]
  },
  {
   "cell_type": "code",
   "execution_count": 63,
   "metadata": {},
   "outputs": [
    {
     "name": "stdout",
     "output_type": "stream",
     "text": [
      "Help on method pubsub in module redis.client:\n",
      "\n",
      "pubsub(**kwargs) method of redis.client.Redis instance\n",
      "    Return a Publish/Subscribe object. With this object, you can\n",
      "    subscribe to channels and listen for messages that get published to\n",
      "    them.\n",
      "\n"
     ]
    }
   ],
   "source": [
    "help(r.pubsub)"
   ]
  },
  {
   "cell_type": "code",
   "execution_count": 64,
   "metadata": {},
   "outputs": [],
   "source": [
    "p = r.pubsub()"
   ]
  },
  {
   "cell_type": "markdown",
   "metadata": {},
   "source": [
    "#### Channels"
   ]
  },
  {
   "cell_type": "code",
   "execution_count": 65,
   "metadata": {},
   "outputs": [],
   "source": [
    "p.subscribe('python', 'perl', 'sql')"
   ]
  },
  {
   "cell_type": "code",
   "execution_count": 66,
   "metadata": {},
   "outputs": [
    {
     "name": "stdout",
     "output_type": "stream",
     "text": [
      "{'type': 'subscribe', 'pattern': None, 'channel': b'python', 'data': 1}\n",
      "{'type': 'subscribe', 'pattern': None, 'channel': b'perl', 'data': 2}\n",
      "{'type': 'subscribe', 'pattern': None, 'channel': b'sql', 'data': 3}\n"
     ]
    }
   ],
   "source": [
    "m = p.get_message()\n",
    "while m:\n",
    "    print(m)\n",
    "    m = p.get_message()"
   ]
  },
  {
   "cell_type": "code",
   "execution_count": 67,
   "metadata": {},
   "outputs": [
    {
     "data": {
      "text/plain": [
       "{b'python': None, b'perl': None, b'sql': None}"
      ]
     },
     "execution_count": 67,
     "metadata": {},
     "output_type": "execute_result"
    }
   ],
   "source": [
    "p.channels"
   ]
  },
  {
   "cell_type": "code",
   "execution_count": 68,
   "metadata": {},
   "outputs": [],
   "source": [
    "p2 = r.pubsub()"
   ]
  },
  {
   "cell_type": "code",
   "execution_count": 69,
   "metadata": {},
   "outputs": [],
   "source": [
    "p2.psubscribe('p*')"
   ]
  },
  {
   "cell_type": "code",
   "execution_count": 70,
   "metadata": {},
   "outputs": [
    {
     "data": {
      "text/plain": [
       "{b'p*': None}"
      ]
     },
     "execution_count": 70,
     "metadata": {},
     "output_type": "execute_result"
    }
   ],
   "source": [
    "p2.patterns"
   ]
  },
  {
   "cell_type": "markdown",
   "metadata": {},
   "source": [
    "#### Messages"
   ]
  },
  {
   "cell_type": "markdown",
   "metadata": {},
   "source": [
    "From [redis-puy](https://github.com/andymccurdy/redis-py)\n",
    "\n",
    "Every message read from a PubSub instance will be a dictionary with the following keys.\n",
    "\n",
    "- type: One of the following: 'subscribe', 'unsubscribe', 'psubscribe', 'punsubscribe', 'message', 'pmessage'\n",
    "- channel: The channel [un]subscribed to or the channel a message was published to\n",
    "- pattern: The pattern that matched a published message's channel. Will be None in all cases except for 'pmessage' types.\n",
    "- data: The message data. With [un]subscribe messages, this value will be the number of channels and patterns the connection is currently subscribed to. With [p]message messages, this value will be the actual published message."
   ]
  },
  {
   "cell_type": "code",
   "execution_count": 71,
   "metadata": {},
   "outputs": [
    {
     "data": {
      "text/plain": [
       "0"
      ]
     },
     "execution_count": 71,
     "metadata": {},
     "output_type": "execute_result"
    }
   ],
   "source": [
    "r.publish('python', 'use blank spaces')\n",
    "r.publish('python', 'no semi-colons')\n",
    "r.publish('perl', 'use spaceship operator')\n",
    "r.publish('sql', 'select this')\n",
    "r.publish('haskell', 'functional is cool')"
   ]
  },
  {
   "cell_type": "code",
   "execution_count": 72,
   "metadata": {},
   "outputs": [
    {
     "name": "stdout",
     "output_type": "stream",
     "text": [
      "{'type': 'message', 'pattern': None, 'channel': b'python', 'data': b'use blank spaces'}\n",
      "{'type': 'message', 'pattern': None, 'channel': b'python', 'data': b'no semi-colons'}\n",
      "{'type': 'message', 'pattern': None, 'channel': b'perl', 'data': b'use spaceship operator'}\n",
      "{'type': 'message', 'pattern': None, 'channel': b'sql', 'data': b'select this'}\n"
     ]
    }
   ],
   "source": [
    "m = p.get_message()\n",
    "while m:\n",
    "    print(m)\n",
    "    m = p.get_message()"
   ]
  },
  {
   "cell_type": "code",
   "execution_count": 73,
   "metadata": {},
   "outputs": [],
   "source": [
    "p.unsubscribe('python')"
   ]
  },
  {
   "cell_type": "code",
   "execution_count": 74,
   "metadata": {},
   "outputs": [
    {
     "data": {
      "text/plain": [
       "{b'python': None, b'perl': None, b'sql': None}"
      ]
     },
     "execution_count": 74,
     "metadata": {},
     "output_type": "execute_result"
    }
   ],
   "source": [
    "p.channels"
   ]
  },
  {
   "cell_type": "code",
   "execution_count": 75,
   "metadata": {},
   "outputs": [
    {
     "data": {
      "text/plain": [
       "0"
      ]
     },
     "execution_count": 75,
     "metadata": {},
     "output_type": "execute_result"
    }
   ],
   "source": [
    "r.publish('python', 'use blank spaces 2')\n",
    "r.publish('python', 'no semi-colons 2')\n",
    "r.publish('perl', 'use spaceship operator 2')\n",
    "r.publish('sql', 'select this 2')\n",
    "r.publish('haskell', 'functional is cool 2')"
   ]
  },
  {
   "cell_type": "code",
   "execution_count": 76,
   "metadata": {},
   "outputs": [
    {
     "name": "stdout",
     "output_type": "stream",
     "text": [
      "{'type': 'unsubscribe', 'pattern': None, 'channel': b'python', 'data': 2}\n",
      "{'type': 'message', 'pattern': None, 'channel': b'perl', 'data': b'use spaceship operator 2'}\n",
      "{'type': 'message', 'pattern': None, 'channel': b'sql', 'data': b'select this 2'}\n"
     ]
    }
   ],
   "source": [
    "m = p.get_message()\n",
    "while m:\n",
    "    print(m)\n",
    "    m = p.get_message()"
   ]
  },
  {
   "cell_type": "code",
   "execution_count": 77,
   "metadata": {},
   "outputs": [
    {
     "name": "stdout",
     "output_type": "stream",
     "text": [
      "{'type': 'psubscribe', 'pattern': None, 'channel': b'p*', 'data': 1}\n",
      "{'type': 'pmessage', 'pattern': b'p*', 'channel': b'python', 'data': b'use blank spaces'}\n",
      "{'type': 'pmessage', 'pattern': b'p*', 'channel': b'python', 'data': b'no semi-colons'}\n",
      "{'type': 'pmessage', 'pattern': b'p*', 'channel': b'perl', 'data': b'use spaceship operator'}\n",
      "{'type': 'pmessage', 'pattern': b'p*', 'channel': b'python', 'data': b'use blank spaces 2'}\n",
      "{'type': 'pmessage', 'pattern': b'p*', 'channel': b'python', 'data': b'no semi-colons 2'}\n",
      "{'type': 'pmessage', 'pattern': b'p*', 'channel': b'perl', 'data': b'use spaceship operator 2'}\n"
     ]
    }
   ],
   "source": [
    "m = p2.get_message()\n",
    "while m:\n",
    "    print(m)\n",
    "    m = p2.get_message()"
   ]
  },
  {
   "cell_type": "markdown",
   "metadata": {},
   "source": [
    "### Multiple databases"
   ]
  },
  {
   "cell_type": "code",
   "execution_count": 78,
   "metadata": {},
   "outputs": [
    {
     "data": {
      "text/plain": [
       "True"
      ]
     },
     "execution_count": 78,
     "metadata": {},
     "output_type": "execute_result"
    }
   ],
   "source": [
    "r2 = redis.Redis(db=1)\n",
    "r2.flushdb()"
   ]
  },
  {
   "cell_type": "code",
   "execution_count": 79,
   "metadata": {},
   "outputs": [],
   "source": [
    "for c in ['c1', 'c2', 'c3', 'c4']:\n",
    "    r.move(c, 1)"
   ]
  },
  {
   "cell_type": "code",
   "execution_count": 80,
   "metadata": {},
   "outputs": [
    {
     "name": "stdout",
     "output_type": "stream",
     "text": [
      "[(b'flies', 2.0), (b'like', 2.0)]\n",
      "[(b'a', 1.0), (b'an', 1.0), (b'arrow', 1.0), (b'banana', 1.0), (b'fruit', 1.0), (b'time', 1.0), (b'flies', 2.0), (b'like', 2.0)]\n",
      "[(b'a', 1.0), (b'banana', 1.0), (b'flies', 1.0), (b'fruit', 1.0), (b'like', 1.0)]\n",
      "[(b'an', 1.0), (b'arrow', 1.0), (b'flies', 1.0), (b'like', 1.0), (b'time', 1.0)]\n"
     ]
    }
   ],
   "source": [
    "for key in r2.scan_iter('c?'):\n",
    "    print(r2.zrange(key, 0, -1, withscores=True))"
   ]
  },
  {
   "cell_type": "markdown",
   "metadata": {},
   "source": [
    "### Clean up\n",
    "\n",
    "There is  no need to close the connections when we use the `Redis()` object. This is taken care of automatically\n",
    "\n",
    "\n",
    "```python\n",
    "def execute_command(self, *args, **options):\n",
    "    \"Execute a command and return a parsed response\"\n",
    "    pool = self.connection_pool\n",
    "    command_name = args[0]\n",
    "    connection = pool.get_connection(command_name, **options)\n",
    "    try: \n",
    "        connection.send_command(*args)\n",
    "        return self.parse_response(connection, command_name, **options)\n",
    "    except (ConnectionError, TimeoutError) as e:\n",
    "        connection.disconnect()\n",
    "        if not connection.retry_on_timeout and isinstance(e, TimeoutError):\n",
    "            raise\n",
    "        connection.send_command(*args)\n",
    "        return self.parse_response(connection, command_name, **options)\n",
    "    finally:\n",
    "        pool.release(connection)\n",
    " ```"
   ]
  },
  {
   "cell_type": "markdown",
   "metadata": {},
   "source": [
    "#### Benchmark redis"
   ]
  },
  {
   "cell_type": "code",
   "execution_count": 81,
   "metadata": {},
   "outputs": [
    {
     "name": "stdout",
     "output_type": "stream",
     "text": [
      "Usage: redis-benchmark [-h <host>] [-p <port>] [-c <clients>] [-n <requests>] [-k <boolean>]\r\n",
      "\r\n",
      " -h <hostname>      Server hostname (default 127.0.0.1)\r\n",
      " -p <port>          Server port (default 6379)\r\n",
      " -s <socket>        Server socket (overrides host and port)\r\n",
      " -a <password>      Password for Redis Auth\r\n",
      " -c <clients>       Number of parallel connections (default 50)\r\n",
      " -n <requests>      Total number of requests (default 100000)\r\n",
      " -d <size>          Data size of SET/GET value in bytes (default 3)\r\n",
      " --dbnum <db>       SELECT the specified db number (default 0)\r\n",
      " -k <boolean>       1=keep alive 0=reconnect (default 1)\r\n",
      " -r <keyspacelen>   Use random keys for SET/GET/INCR, random values for SADD\r\n",
      "  Using this option the benchmark will expand the string __rand_int__\r\n",
      "  inside an argument with a 12 digits number in the specified range\r\n",
      "  from 0 to keyspacelen-1. The substitution changes every time a command\r\n",
      "  is executed. Default tests use this to hit random keys in the\r\n",
      "  specified range.\r\n",
      " -P <numreq>        Pipeline <numreq> requests. Default 1 (no pipeline).\r\n",
      " -e                 If server replies with errors, show them on stdout.\r\n",
      "                    (no more than 1 error per second is displayed)\r\n",
      " -q                 Quiet. Just show query/sec values\r\n",
      " --csv              Output in CSV format\r\n",
      " -l                 Loop. Run the tests forever\r\n",
      " -t <tests>         Only run the comma separated list of tests. The test\r\n",
      "                    names are the same as the ones produced as output.\r\n",
      " -I                 Idle mode. Just open N idle connections and wait.\r\n",
      "\r\n",
      "Examples:\r\n",
      "\r\n",
      " Run the benchmark with the default configuration against 127.0.0.1:6379:\r\n",
      "   $ redis-benchmark\r\n",
      "\r\n",
      " Use 20 parallel clients, for a total of 100k requests, against 192.168.1.1:\r\n",
      "   $ redis-benchmark -h 192.168.1.1 -p 6379 -n 100000 -c 20\r\n",
      "\r\n",
      " Fill 127.0.0.1:6379 with about 1 million keys only using the SET test:\r\n",
      "   $ redis-benchmark -t set -n 1000000 -r 100000000\r\n",
      "\r\n",
      " Benchmark 127.0.0.1:6379 for a few commands producing CSV output:\r\n",
      "   $ redis-benchmark -t ping,set,get -n 100000 --csv\r\n",
      "\r\n",
      " Benchmark a specific command line:\r\n",
      "   $ redis-benchmark -r 10000 -n 10000 eval 'return redis.call(\"ping\")' 0\r\n",
      "\r\n",
      " Fill a list with 10000 random elements:\r\n",
      "   $ redis-benchmark -r 10000 -n 10000 lpush mylist __rand_int__\r\n",
      "\r\n",
      " On user specified command lines __rand_int__ is replaced with a random integer\r\n",
      " with a range of values selected by the -r option.\r\n"
     ]
    }
   ],
   "source": [
    "! redis-benchmark --help"
   ]
  },
  {
   "cell_type": "code",
   "execution_count": 82,
   "metadata": {},
   "outputs": [
    {
     "name": "stdout",
     "output_type": "stream",
     "text": [
      "PING_INLINE: 0.00\r",
      "PING_INLINE: 38525.90\r",
      "PING_INLINE: 38610.04 requests per second\n",
      "PING_BULK: 38370.84\r",
      "PING_BULK: 38461.54 requests per second\n",
      "SET: 39017.54\r",
      "SET: 39215.69 requests per second\n",
      "GET: 40135.75\r",
      "GET: 40000.00 requests per second\n",
      "INCR: 38286.36\r",
      "INCR: 38314.18 requests per second\n",
      "LPUSH: 40879.81\r",
      "LPUSH: 41322.31 requests per second\n",
      "RPUSH: 38242.99\r",
      "RPUSH: 36900.37 requests per second\n",
      "LPOP: 37413.61\r",
      "LPOP: 37453.18 requests per second\n",
      "RPOP: 34918.60\r",
      "RPOP: 34722.22 requests per second\n",
      "SADD: 37571.43\r",
      "SADD: 37878.79 requests per second\n",
      "HSET: 38341.88\r",
      "HSET: 38759.69 requests per second\n",
      "SPOP: 40682.24\r",
      "SPOP: 39370.08 requests per second\n",
      "LPUSH (needed to benchmark LRANGE): 37742.57\r",
      "LPUSH (needed to benchmark LRANGE): 37878.79 requests per second\n",
      "LRANGE_100 (first 100 elements): 33139.54\r",
      "LRANGE_100 (first 100 elements): 33222.59 requests per second\n",
      "LRANGE_300 (first 300 elements): 17696.97\r",
      "LRANGE_300 (first 300 elements): 19696.11\r",
      "LRANGE_300 (first 300 elements): 19646.37 requests per second\n",
      "LRANGE_500 (first 450 elements): 14363.64\r",
      "LRANGE_500 (first 450 elements): 14386.03\r",
      "LRANGE_500 (first 450 elements): 14543.02\r",
      "LRANGE_500 (first 450 elements): 14577.26 requests per second\n",
      "LRANGE_600 (first 600 elements): 12482.35\r",
      "LRANGE_600 (first 600 elements): 12532.74\r",
      "LRANGE_600 (first 600 elements): 12505.96\r",
      "LRANGE_600 (first 600 elements): 12484.39 requests per second\n",
      "MSET (10 keys): 38314.29\r",
      "MSET (10 keys): 40160.64 requests per second\n",
      "\n"
     ]
    }
   ],
   "source": [
    "%%bash \n",
    "\n",
    "redis-benchmark -q -n 10000 -c 50"
   ]
  },
  {
   "cell_type": "code",
   "execution_count": null,
   "metadata": {},
   "outputs": [],
   "source": []
  }
 ],
 "metadata": {
  "kernelspec": {
   "display_name": "Python 3",
   "language": "python",
   "name": "python3"
  },
  "language_info": {
   "codemirror_mode": {
    "name": "ipython",
    "version": 3
   },
   "file_extension": ".py",
   "mimetype": "text/x-python",
   "name": "python",
   "nbconvert_exporter": "python",
   "pygments_lexer": "ipython3",
   "version": "3.7.8"
  }
 },
 "nbformat": 4,
 "nbformat_minor": 2
}
