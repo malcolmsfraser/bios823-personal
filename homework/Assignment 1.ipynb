{
 "cells": [
  {
   "cell_type": "markdown",
   "metadata": {},
   "source": [
    "**1**. Math is fun\n",
    "\n",
    "Solve 3 problems from the [Euler Project](https://projecteuler.net/archives) using Python. Of the 3 problems, one must have been solved by fewer than 25,000 people, 1 fewer than 100,000 people and one fewer than 500,000 people. If you want to challenge yourself, choose all 3 problems from the category solved by fewer than 25,000 people. Write a function for each problem, and use [`nuympy`-styple docstrings](https://numpydoc.readthedocs.io/en/latest/format.html) to annotate each function. Write a blog  describing your solutions and how you approached each problem. "
   ]
  },
  {
   "cell_type": "markdown",
   "metadata": {},
   "source": [
    "**Problem 9 - Special Pythagorean triplet** (solved by 360,641 as od 8/25/2021)\n",
    "\n",
    "A Pythagorean triplet is a set of three natural numbers, a < b < c, for which,\n",
    "\n",
    "$a^2 + b^2 = c^2$\n",
    "For example, $3^2 + 4^2 = 9 + 16 = 25 = 5^2$.\n",
    "\n",
    "There exists exactly one Pythagorean triplet for which a + b + c = 1000.\n",
    "Find the product abc."
   ]
  },
  {
   "cell_type": "code",
   "execution_count": 1,
   "metadata": {},
   "outputs": [
    {
     "name": "stdout",
     "output_type": "stream",
     "text": [
      "Special Triplet found! (200, 375, 425)\n"
     ]
    }
   ],
   "source": [
    "import math\n",
    "\n",
    "def find_special(value=1000):\n",
    "    \"\"\"\n",
    "    Finds the first pythagorean triplet who's sums add to the input value. Default value is 1000 for special triplet\n",
    "    \"\"\"\n",
    "    ss = 0\n",
    "    found = False\n",
    "\n",
    "    for a in range(1, value): # a can never be as large as \"value\" so this is where I cap the loop for convinience\n",
    "        if found == True:\n",
    "            break\n",
    "\n",
    "        for b in range(1, value): # b can never be as large as \"value\" so this is where I cap the loop for convinience\n",
    " \n",
    "            c = math.sqrt(a * a + b * b)\n",
    "\n",
    "            if c % 1 == 0: # check if c is an integer.. ie, is this a pythagorean triplet\n",
    "                if int(a+b+c) == value: # check if special triplet\n",
    "                    print(f\"Special Triplet found! {(a,b,int(c))}\")\n",
    "                    #print(f\"{a} + {b} + {int(c)} = {value}\")\n",
    "                    found = True\n",
    "                    break\n",
    "    else:\n",
    "        print(f\"There is no pythagorean triplet that sums to {value}.\")\n",
    "\n",
    "\n",
    "find_special()"
   ]
  },
  {
   "cell_type": "markdown",
   "metadata": {},
   "source": [
    "**Problem 36 - Double-base palindromes** (solved by 89539 as of 8/25/25)\n",
    "\n",
    "The decimal number, 585 = 10010010012 (binary), is palindromic in both bases.\n",
    "\n",
    "Find the sum of all numbers, less than one million, which are palindromic in base 10 and base 2.\n",
    "\n",
    "(Please note that the palindromic number, in either base, may not include leading zeros.)"
   ]
  },
  {
   "cell_type": "code",
   "execution_count": 2,
   "metadata": {
    "scrolled": true
   },
   "outputs": [
    {
     "data": {
      "text/plain": [
       "'1001001001'"
      ]
     },
     "execution_count": 2,
     "metadata": {},
     "output_type": "execute_result"
    }
   ],
   "source": [
    "def get_binary(x):\n",
    "    \"\"\"Returns the binary form of the base 10 number without leading zeroes\"\"\"\n",
    "\n",
    "    b = bin(x).split(\"b\")[1]\n",
    "    return b\n",
    "\n",
    "\n",
    "get_binary(585)"
   ]
  },
  {
   "cell_type": "code",
   "execution_count": 3,
   "metadata": {},
   "outputs": [
    {
     "name": "stdout",
     "output_type": "stream",
     "text": [
      "False\n",
      "True\n"
     ]
    }
   ],
   "source": [
    "def check_palindrome(num):\n",
    "    \"\"\"Checks if the base 10 and its binary are both palindromes\"\"\"\n",
    "\n",
    "    string = str(num)\n",
    "    bstring = get_binary(num)\n",
    "    if string == string[::-1] and bstring == bstring[::-1]:\n",
    "        return True\n",
    "    else:\n",
    "        return False\n",
    "\n",
    "\n",
    "print(check_palindrome(2))\n",
    "print(check_palindrome(585))"
   ]
  },
  {
   "cell_type": "code",
   "execution_count": 4,
   "metadata": {},
   "outputs": [
    {
     "name": "stdout",
     "output_type": "stream",
     "text": [
      "0.6230740547180176\n"
     ]
    },
    {
     "data": {
      "text/plain": [
       "872187"
      ]
     },
     "execution_count": 4,
     "metadata": {},
     "output_type": "execute_result"
    }
   ],
   "source": [
    "import time\n",
    "def sum_palindromes(limit=1000000):\n",
    "    \"\"\"Sums all base2/binary palidromes less than the limit value\"\"\"\n",
    "    start = time.time()\n",
    "    ss = 0\n",
    "    for x in range(limit):\n",
    "        if check_palindrome(x):\n",
    "            ss += x\n",
    "    print(time.time() -start)\n",
    "    return ss\n",
    "\n",
    "\n",
    "sum_palindromes()"
   ]
  },
  {
   "cell_type": "markdown",
   "metadata": {},
   "source": [
    "**Problem 119 - Digit power sum** (solved by 12212 as of 9/1/2021)\n",
    "\n",
    "The number 512 is interesting because it is equal to the sum of its digits raised to some power: 5 + 1 + 2 = 8, and 83 = 512. Another example of a number with this property is 614656 = 284.\n",
    "\n",
    "We shall define an to be the nth term of this sequence and insist that a number must contain at least two digits to have a sum.\n",
    "\n",
    "You are given that a2 = 512 and a10 = 614656.\n",
    "\n",
    "Find a30."
   ]
  },
  {
   "cell_type": "code",
   "execution_count": 5,
   "metadata": {},
   "outputs": [],
   "source": [
    "def nth_digit_power_sum(n):\n",
    "    \"\"\"\n",
    "    For x in (0,100) this function searches x^0 to x^20 for cases where x^n equals the sum of the digits in x.\n",
    "    Returns the (input) nth term in the sequence of these such values when sorted in ascending order.\n",
    "    \n",
    "    **Note the loop as written only returns the first 47 such values but this can be extended as needed.\n",
    "    \"\"\"\n",
    "\n",
    "    start = time.time()\n",
    "    power_sums = set()\n",
    "    for a in range(100):\n",
    "        x = a\n",
    "        for b in range(20): \n",
    "            x *= a \n",
    "            if x < 10: \n",
    "                continue \n",
    "            if sum(map(int, str(x))) == a: \n",
    "                power_sums.add(x) \n",
    "\n",
    "    print(time.time()-start)\n",
    "    #print(len(ret))\n",
    "    return sorted(power_sums)[n-1]"
   ]
  },
  {
   "cell_type": "code",
   "execution_count": 6,
   "metadata": {},
   "outputs": [
    {
     "name": "stdout",
     "output_type": "stream",
     "text": [
      "0.0055675506591796875\n"
     ]
    },
    {
     "data": {
      "text/plain": [
       "248155780267521"
      ]
     },
     "execution_count": 6,
     "metadata": {},
     "output_type": "execute_result"
    }
   ],
   "source": [
    "nth_digit_power_sum(30)"
   ]
  },
  {
   "cell_type": "code",
   "execution_count": null,
   "metadata": {},
   "outputs": [],
   "source": []
  }
 ],
 "metadata": {
  "kernelspec": {
   "display_name": "Python 3",
   "language": "python",
   "name": "python3"
  },
  "language_info": {
   "codemirror_mode": {
    "name": "ipython",
    "version": 3
   },
   "file_extension": ".py",
   "mimetype": "text/x-python",
   "name": "python",
   "nbconvert_exporter": "python",
   "pygments_lexer": "ipython3",
   "version": "3.7.8"
  }
 },
 "nbformat": 4,
 "nbformat_minor": 4
}
