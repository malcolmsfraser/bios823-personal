{
 "cells": [
  {
   "cell_type": "markdown",
   "metadata": {},
   "source": [
    "**2**. Number theory and a Google recruitment puzzle\n",
    "\n",
    "Find the first 10-digit prime in the decimal expansion of 17π. \n",
    "\n",
    "The first 5 digits in the decimal expansion of π are 14159. The first 4-digit prime in the decimal expansion of π are 4159. You are asked to find the first 10-digit prime in the decimal expansion of 17π. First solve sub-problems (divide and conquer):\n",
    "\n",
    "- Write a function to generate an arbitrary large expansion of a mathematical expression like π. Hint: You can use the standard library `decimal` or the 3rd party library `sympy` to do this\n",
    "- Write a function to check if a number is prime. Hint: See Sieve of Eratosthenes\n",
    "- Write a function to generate sliding windows of a specified width from a long iterable (e.g. a string representation of a number)\n",
    "\n",
    "Write unit tests for each of these three functions. You are encouraged, but not required, to try [test-driven development](https://en.wikipedia.org/wiki/Test-driven_development).\n",
    "\n",
    "Now use these helper functions to write the function that you need.\n",
    "Write a unit test for this final function, given that the first 10-digit prime in the expansion e is 7427466391. Finally, solve the given problem."
   ]
  },
  {
   "cell_type": "code",
   "execution_count": 1,
   "metadata": {},
   "outputs": [],
   "source": [
    "from mpmath import mp"
   ]
  },
  {
   "cell_type": "code",
   "execution_count": 2,
   "metadata": {},
   "outputs": [],
   "source": [
    "def get_pi(n):\n",
    "    \"\"\"Returns returns the first n digits of pi\"\"\"\n",
    "    mp.dps = n\n",
    "    return mp.pi"
   ]
  },
  {
   "cell_type": "code",
   "execution_count": 3,
   "metadata": {},
   "outputs": [],
   "source": [
    "def test_get_pi():\n",
    "    assert mp.pi == get_pi(10)\n",
    "    assert mp.pi == get_pi(100)\n",
    "    print(\"Test passed!\")"
   ]
  },
  {
   "cell_type": "code",
   "execution_count": 4,
   "metadata": {},
   "outputs": [
    {
     "name": "stdout",
     "output_type": "stream",
     "text": [
      "Test passed!\n"
     ]
    }
   ],
   "source": [
    "test_get_pi()"
   ]
  },
  {
   "cell_type": "code",
   "execution_count": 5,
   "metadata": {},
   "outputs": [],
   "source": [
    "def check_prime(n):    \n",
    "    \"\"\"Checks if n is prime by searching range(2,sqrt(n)) for factors\"\"\"\n",
    "\n",
    "    prime_flag = 0\n",
    "\n",
    "    if n > 1:\n",
    "        for i in range(2, int(n**.5) + 1):\n",
    "            if (n % i == 0):\n",
    "                prime_flag = 1\n",
    "                break\n",
    "        if (prime_flag == 0):\n",
    "            return True\n",
    "        else:\n",
    "            return False\n",
    "    else:\n",
    "        return False"
   ]
  },
  {
   "cell_type": "code",
   "execution_count": 6,
   "metadata": {},
   "outputs": [
    {
     "data": {
      "text/plain": [
       "False"
      ]
     },
     "execution_count": 6,
     "metadata": {},
     "output_type": "execute_result"
    }
   ],
   "source": [
    "check_prime(9999999999)"
   ]
  },
  {
   "cell_type": "code",
   "execution_count": 7,
   "metadata": {},
   "outputs": [],
   "source": [
    "def test_check_prime():\n",
    "    assert check_prime(2) == True\n",
    "    assert check_prime(7) == True\n",
    "    assert check_prime(4) == False\n",
    "    assert check_prime(25) == False\n",
    "    print(\"Test passed!\")"
   ]
  },
  {
   "cell_type": "code",
   "execution_count": 8,
   "metadata": {},
   "outputs": [
    {
     "name": "stdout",
     "output_type": "stream",
     "text": [
      "Test passed!\n"
     ]
    }
   ],
   "source": [
    "test_check_prime()"
   ]
  },
  {
   "cell_type": "code",
   "execution_count": 9,
   "metadata": {},
   "outputs": [],
   "source": [
    "def check_expansion(expansion, scale=1, prec=50):\n",
    "    \"\"\"Check if 10 digit values in the decimal expansion of 17pi are prime\"\"\"\n",
    "    expan = str(scale*expansion(prec)).split(\".\")[1]\n",
    "    length = len(expan)\n",
    "    for i in range(length-10):\n",
    "        window = expan[i:i+10]\n",
    "        if check_prime(int(window)):\n",
    "            print(f\"{window} is the first 10 digit prime in the decimal expansion of {scale}*{expansion.__name__.split('_')[1]}\")\n",
    "            return window\n",
    "            break\n",
    "    else:\n",
    "        print(\"10 digit prime not found, increase the precision\")"
   ]
  },
  {
   "cell_type": "code",
   "execution_count": 10,
   "metadata": {},
   "outputs": [],
   "source": [
    "def get_e(n):\n",
    "    \"\"\"Returns returns the first n digits of e\"\"\"\n",
    "    mp.dps = n\n",
    "    return mp.e"
   ]
  },
  {
   "cell_type": "code",
   "execution_count": 11,
   "metadata": {},
   "outputs": [
    {
     "name": "stdout",
     "output_type": "stream",
     "text": [
      "7427466391 is the first 10 digit prime in the decimal expansion of 1*e\n"
     ]
    }
   ],
   "source": [
    "e_prime = check_expansion(expansion=get_e,prec=500)"
   ]
  },
  {
   "cell_type": "code",
   "execution_count": 12,
   "metadata": {},
   "outputs": [],
   "source": [
    "def test_check_expansion():\n",
    "    e_prime_10 = 7427466391\n",
    "    \n",
    "    assert int(check_expansion(expansion = get_e,prec=500)) == e_prime_10\n",
    "    print(\"Test passed!\")"
   ]
  },
  {
   "cell_type": "code",
   "execution_count": 13,
   "metadata": {},
   "outputs": [
    {
     "name": "stdout",
     "output_type": "stream",
     "text": [
      "7427466391 is the first 10 digit prime in the decimal expansion of 1*e\n",
      "Test passed!\n"
     ]
    }
   ],
   "source": [
    "test_check_expansion()"
   ]
  },
  {
   "cell_type": "code",
   "execution_count": 14,
   "metadata": {},
   "outputs": [
    {
     "name": "stdout",
     "output_type": "stream",
     "text": [
      "8649375157 is the first 10 digit prime in the decimal expansion of 17*pi\n"
     ]
    },
    {
     "data": {
      "text/plain": [
       "'8649375157'"
      ]
     },
     "execution_count": 14,
     "metadata": {},
     "output_type": "execute_result"
    }
   ],
   "source": [
    "check_expansion(expansion=get_pi,scale=17)"
   ]
  },
  {
   "cell_type": "code",
   "execution_count": null,
   "metadata": {},
   "outputs": [],
   "source": []
  }
 ],
 "metadata": {
  "kernelspec": {
   "display_name": "Python 3",
   "language": "python",
   "name": "python3"
  },
  "language_info": {
   "codemirror_mode": {
    "name": "ipython",
    "version": 3
   },
   "file_extension": ".py",
   "mimetype": "text/x-python",
   "name": "python",
   "nbconvert_exporter": "python",
   "pygments_lexer": "ipython3",
   "version": "3.7.8"
  }
 },
 "nbformat": 4,
 "nbformat_minor": 4
}
